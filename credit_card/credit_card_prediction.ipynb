{
 "cells": [
  {
   "cell_type": "code",
   "execution_count": 7,
   "metadata": {
    "executionInfo": {
     "elapsed": 3343,
     "status": "ok",
     "timestamp": 1617445514092,
     "user": {
      "displayName": "youtube dacon",
      "photoUrl": "",
      "userId": "00770885000471893693"
     },
     "user_tz": -540
    },
    "id": "vQ0TeqzQwyH8"
   },
   "outputs": [],
   "source": [
    "import pandas as pd"
   ]
  },
  {
   "cell_type": "code",
   "execution_count": 8,
   "metadata": {
    "executionInfo": {
     "elapsed": 3337,
     "status": "ok",
     "timestamp": 1617445514093,
     "user": {
      "displayName": "youtube dacon",
      "photoUrl": "",
      "userId": "00770885000471893693"
     },
     "user_tz": -540
    },
    "id": "XhVVKX-QxIUY"
   },
   "outputs": [],
   "source": [
    "train = pd.read_csv(\"train.csv\")\n",
    "test = pd.read_csv(\"test.csv\")\n",
    "sample_submission = pd.read_csv(\"sample_submission.csv\")"
   ]
  },
  {
   "cell_type": "code",
   "execution_count": 9,
   "metadata": {
    "colab": {
     "base_uri": "https://localhost:8080/"
    },
    "executionInfo": {
     "elapsed": 3325,
     "status": "ok",
     "timestamp": 1617445514094,
     "user": {
      "displayName": "youtube dacon",
      "photoUrl": "",
      "userId": "00770885000471893693"
     },
     "user_tz": -540
    },
    "id": "-m77JSgMxIRe",
    "outputId": "89804ed4-b2cf-4ba7-edd5-e1c5bd5ea021"
   },
   "outputs": [
    {
     "data": {
      "text/plain": [
       "(26457, 20)"
      ]
     },
     "execution_count": 9,
     "metadata": {},
     "output_type": "execute_result"
    }
   ],
   "source": [
    "train.shape"
   ]
  },
  {
   "cell_type": "code",
   "execution_count": 10,
   "metadata": {
    "colab": {
     "base_uri": "https://localhost:8080/"
    },
    "executionInfo": {
     "elapsed": 3311,
     "status": "ok",
     "timestamp": 1617445514095,
     "user": {
      "displayName": "youtube dacon",
      "photoUrl": "",
      "userId": "00770885000471893693"
     },
     "user_tz": -540
    },
    "id": "oqfpLpzmxIPz",
    "outputId": "5bd5d916-7be0-4d48-df6a-646ddb1e2954"
   },
   "outputs": [
    {
     "name": "stdout",
     "output_type": "stream",
     "text": [
      "<class 'pandas.core.frame.DataFrame'>\n",
      "RangeIndex: 26457 entries, 0 to 26456\n",
      "Data columns (total 20 columns):\n",
      " #   Column         Non-Null Count  Dtype  \n",
      "---  ------         --------------  -----  \n",
      " 0   index          26457 non-null  int64  \n",
      " 1   gender         26457 non-null  object \n",
      " 2   car            26457 non-null  object \n",
      " 3   reality        26457 non-null  object \n",
      " 4   child_num      26457 non-null  int64  \n",
      " 5   income_total   26457 non-null  float64\n",
      " 6   income_type    26457 non-null  object \n",
      " 7   edu_type       26457 non-null  object \n",
      " 8   family_type    26457 non-null  object \n",
      " 9   house_type     26457 non-null  object \n",
      " 10  DAYS_BIRTH     26457 non-null  int64  \n",
      " 11  DAYS_EMPLOYED  26457 non-null  int64  \n",
      " 12  FLAG_MOBIL     26457 non-null  int64  \n",
      " 13  work_phone     26457 non-null  int64  \n",
      " 14  phone          26457 non-null  int64  \n",
      " 15  email          26457 non-null  int64  \n",
      " 16  occyp_type     18286 non-null  object \n",
      " 17  family_size    26457 non-null  float64\n",
      " 18  begin_month    26457 non-null  float64\n",
      " 19  credit         26457 non-null  float64\n",
      "dtypes: float64(4), int64(8), object(8)\n",
      "memory usage: 4.0+ MB\n"
     ]
    }
   ],
   "source": [
    "train.info()"
   ]
  },
  {
   "cell_type": "code",
   "execution_count": 11,
   "metadata": {
    "colab": {
     "base_uri": "https://localhost:8080/",
     "height": 378
    },
    "executionInfo": {
     "elapsed": 3294,
     "status": "ok",
     "timestamp": 1617445514096,
     "user": {
      "displayName": "youtube dacon",
      "photoUrl": "",
      "userId": "00770885000471893693"
     },
     "user_tz": -540
    },
    "id": "5zLv76jUxILk",
    "outputId": "4d0e5e8d-31ef-42f4-ec70-ddeb31b40568"
   },
   "outputs": [
    {
     "data": {
      "text/html": [
       "<div>\n",
       "<style scoped>\n",
       "    .dataframe tbody tr th:only-of-type {\n",
       "        vertical-align: middle;\n",
       "    }\n",
       "\n",
       "    .dataframe tbody tr th {\n",
       "        vertical-align: top;\n",
       "    }\n",
       "\n",
       "    .dataframe thead th {\n",
       "        text-align: right;\n",
       "    }\n",
       "</style>\n",
       "<table border=\"1\" class=\"dataframe\">\n",
       "  <thead>\n",
       "    <tr style=\"text-align: right;\">\n",
       "      <th></th>\n",
       "      <th>index</th>\n",
       "      <th>gender</th>\n",
       "      <th>car</th>\n",
       "      <th>reality</th>\n",
       "      <th>child_num</th>\n",
       "      <th>income_total</th>\n",
       "      <th>income_type</th>\n",
       "      <th>edu_type</th>\n",
       "      <th>family_type</th>\n",
       "      <th>house_type</th>\n",
       "      <th>DAYS_BIRTH</th>\n",
       "      <th>DAYS_EMPLOYED</th>\n",
       "      <th>FLAG_MOBIL</th>\n",
       "      <th>work_phone</th>\n",
       "      <th>phone</th>\n",
       "      <th>email</th>\n",
       "      <th>occyp_type</th>\n",
       "      <th>family_size</th>\n",
       "      <th>begin_month</th>\n",
       "      <th>credit</th>\n",
       "    </tr>\n",
       "  </thead>\n",
       "  <tbody>\n",
       "    <tr>\n",
       "      <th>0</th>\n",
       "      <td>0</td>\n",
       "      <td>F</td>\n",
       "      <td>N</td>\n",
       "      <td>N</td>\n",
       "      <td>0</td>\n",
       "      <td>202500.0</td>\n",
       "      <td>Commercial associate</td>\n",
       "      <td>Higher education</td>\n",
       "      <td>Married</td>\n",
       "      <td>Municipal apartment</td>\n",
       "      <td>-13899</td>\n",
       "      <td>-4709</td>\n",
       "      <td>1</td>\n",
       "      <td>0</td>\n",
       "      <td>0</td>\n",
       "      <td>0</td>\n",
       "      <td>NaN</td>\n",
       "      <td>2.0</td>\n",
       "      <td>-6.0</td>\n",
       "      <td>1.0</td>\n",
       "    </tr>\n",
       "    <tr>\n",
       "      <th>1</th>\n",
       "      <td>1</td>\n",
       "      <td>F</td>\n",
       "      <td>N</td>\n",
       "      <td>Y</td>\n",
       "      <td>1</td>\n",
       "      <td>247500.0</td>\n",
       "      <td>Commercial associate</td>\n",
       "      <td>Secondary / secondary special</td>\n",
       "      <td>Civil marriage</td>\n",
       "      <td>House / apartment</td>\n",
       "      <td>-11380</td>\n",
       "      <td>-1540</td>\n",
       "      <td>1</td>\n",
       "      <td>0</td>\n",
       "      <td>0</td>\n",
       "      <td>1</td>\n",
       "      <td>Laborers</td>\n",
       "      <td>3.0</td>\n",
       "      <td>-5.0</td>\n",
       "      <td>1.0</td>\n",
       "    </tr>\n",
       "    <tr>\n",
       "      <th>2</th>\n",
       "      <td>2</td>\n",
       "      <td>M</td>\n",
       "      <td>Y</td>\n",
       "      <td>Y</td>\n",
       "      <td>0</td>\n",
       "      <td>450000.0</td>\n",
       "      <td>Working</td>\n",
       "      <td>Higher education</td>\n",
       "      <td>Married</td>\n",
       "      <td>House / apartment</td>\n",
       "      <td>-19087</td>\n",
       "      <td>-4434</td>\n",
       "      <td>1</td>\n",
       "      <td>0</td>\n",
       "      <td>1</td>\n",
       "      <td>0</td>\n",
       "      <td>Managers</td>\n",
       "      <td>2.0</td>\n",
       "      <td>-22.0</td>\n",
       "      <td>2.0</td>\n",
       "    </tr>\n",
       "    <tr>\n",
       "      <th>3</th>\n",
       "      <td>3</td>\n",
       "      <td>F</td>\n",
       "      <td>N</td>\n",
       "      <td>Y</td>\n",
       "      <td>0</td>\n",
       "      <td>202500.0</td>\n",
       "      <td>Commercial associate</td>\n",
       "      <td>Secondary / secondary special</td>\n",
       "      <td>Married</td>\n",
       "      <td>House / apartment</td>\n",
       "      <td>-15088</td>\n",
       "      <td>-2092</td>\n",
       "      <td>1</td>\n",
       "      <td>0</td>\n",
       "      <td>1</td>\n",
       "      <td>0</td>\n",
       "      <td>Sales staff</td>\n",
       "      <td>2.0</td>\n",
       "      <td>-37.0</td>\n",
       "      <td>0.0</td>\n",
       "    </tr>\n",
       "    <tr>\n",
       "      <th>4</th>\n",
       "      <td>4</td>\n",
       "      <td>F</td>\n",
       "      <td>Y</td>\n",
       "      <td>Y</td>\n",
       "      <td>0</td>\n",
       "      <td>157500.0</td>\n",
       "      <td>State servant</td>\n",
       "      <td>Higher education</td>\n",
       "      <td>Married</td>\n",
       "      <td>House / apartment</td>\n",
       "      <td>-15037</td>\n",
       "      <td>-2105</td>\n",
       "      <td>1</td>\n",
       "      <td>0</td>\n",
       "      <td>0</td>\n",
       "      <td>0</td>\n",
       "      <td>Managers</td>\n",
       "      <td>2.0</td>\n",
       "      <td>-26.0</td>\n",
       "      <td>2.0</td>\n",
       "    </tr>\n",
       "  </tbody>\n",
       "</table>\n",
       "</div>"
      ],
      "text/plain": [
       "   index gender car reality  child_num  income_total           income_type  \\\n",
       "0      0      F   N       N          0      202500.0  Commercial associate   \n",
       "1      1      F   N       Y          1      247500.0  Commercial associate   \n",
       "2      2      M   Y       Y          0      450000.0               Working   \n",
       "3      3      F   N       Y          0      202500.0  Commercial associate   \n",
       "4      4      F   Y       Y          0      157500.0         State servant   \n",
       "\n",
       "                        edu_type     family_type           house_type  \\\n",
       "0               Higher education         Married  Municipal apartment   \n",
       "1  Secondary / secondary special  Civil marriage    House / apartment   \n",
       "2               Higher education         Married    House / apartment   \n",
       "3  Secondary / secondary special         Married    House / apartment   \n",
       "4               Higher education         Married    House / apartment   \n",
       "\n",
       "   DAYS_BIRTH  DAYS_EMPLOYED  FLAG_MOBIL  work_phone  phone  email  \\\n",
       "0      -13899          -4709           1           0      0      0   \n",
       "1      -11380          -1540           1           0      0      1   \n",
       "2      -19087          -4434           1           0      1      0   \n",
       "3      -15088          -2092           1           0      1      0   \n",
       "4      -15037          -2105           1           0      0      0   \n",
       "\n",
       "    occyp_type  family_size  begin_month  credit  \n",
       "0          NaN          2.0         -6.0     1.0  \n",
       "1     Laborers          3.0         -5.0     1.0  \n",
       "2     Managers          2.0        -22.0     2.0  \n",
       "3  Sales staff          2.0        -37.0     0.0  \n",
       "4     Managers          2.0        -26.0     2.0  "
      ]
     },
     "execution_count": 11,
     "metadata": {},
     "output_type": "execute_result"
    }
   ],
   "source": [
    "train.head()"
   ]
  },
  {
   "cell_type": "code",
   "execution_count": 12,
   "metadata": {
    "colab": {
     "base_uri": "https://localhost:8080/"
    },
    "executionInfo": {
     "elapsed": 3272,
     "status": "ok",
     "timestamp": 1617445514098,
     "user": {
      "displayName": "youtube dacon",
      "photoUrl": "",
      "userId": "00770885000471893693"
     },
     "user_tz": -540
    },
    "id": "J-tQQLGpDcs8",
    "outputId": "b00bc8ea-ddb1-4d22-e84d-5a34ad5aec5c"
   },
   "outputs": [
    {
     "data": {
      "text/plain": [
       "index               0\n",
       "gender              0\n",
       "car                 0\n",
       "reality             0\n",
       "child_num           0\n",
       "income_total        0\n",
       "income_type         0\n",
       "edu_type            0\n",
       "family_type         0\n",
       "house_type          0\n",
       "DAYS_BIRTH          0\n",
       "DAYS_EMPLOYED       0\n",
       "FLAG_MOBIL          0\n",
       "work_phone          0\n",
       "phone               0\n",
       "email               0\n",
       "occyp_type       8171\n",
       "family_size         0\n",
       "begin_month         0\n",
       "credit              0\n",
       "dtype: int64"
      ]
     },
     "execution_count": 12,
     "metadata": {},
     "output_type": "execute_result"
    }
   ],
   "source": [
    "train.isnull().sum()"
   ]
  },
  {
   "cell_type": "code",
   "execution_count": 13,
   "metadata": {},
   "outputs": [],
   "source": [
    "train = train.drop(\"occyp_type\", axis = 1)\n",
    "test =  test.drop(\"occyp_type\", axis = 1)"
   ]
  },
  {
   "cell_type": "code",
   "execution_count": 14,
   "metadata": {
    "colab": {
     "base_uri": "https://localhost:8080/"
    },
    "executionInfo": {
     "elapsed": 3254,
     "status": "ok",
     "timestamp": 1617445514101,
     "user": {
      "displayName": "youtube dacon",
      "photoUrl": "",
      "userId": "00770885000471893693"
     },
     "user_tz": -540
    },
    "id": "Uptc_IAoDcmN",
    "outputId": "2651a6b4-8f47-43fd-f018-45b1ffc1497c"
   },
   "outputs": [
    {
     "data": {
      "text/plain": [
       "index            0\n",
       "gender           0\n",
       "car              0\n",
       "reality          0\n",
       "child_num        0\n",
       "income_total     0\n",
       "income_type      0\n",
       "edu_type         0\n",
       "family_type      0\n",
       "house_type       0\n",
       "DAYS_BIRTH       0\n",
       "DAYS_EMPLOYED    0\n",
       "FLAG_MOBIL       0\n",
       "work_phone       0\n",
       "phone            0\n",
       "email            0\n",
       "family_size      0\n",
       "begin_month      0\n",
       "credit           0\n",
       "dtype: int64"
      ]
     },
     "execution_count": 14,
     "metadata": {},
     "output_type": "execute_result"
    }
   ],
   "source": [
    "train.isnull().sum()"
   ]
  },
  {
   "cell_type": "code",
   "execution_count": 15,
   "metadata": {
    "colab": {
     "base_uri": "https://localhost:8080/"
    },
    "executionInfo": {
     "elapsed": 3239,
     "status": "ok",
     "timestamp": 1617445514102,
     "user": {
      "displayName": "youtube dacon",
      "photoUrl": "",
      "userId": "00770885000471893693"
     },
     "user_tz": -540
    },
    "id": "kgX2qawWDcj9",
    "outputId": "3354ac39-75dc-4e94-b23b-48758381b9f9"
   },
   "outputs": [
    {
     "data": {
      "text/plain": [
       "2"
      ]
     },
     "execution_count": 15,
     "metadata": {},
     "output_type": "execute_result"
    }
   ],
   "source": [
    "len(train['gender'].unique())"
   ]
  },
  {
   "cell_type": "code",
   "execution_count": 16,
   "metadata": {
    "executionInfo": {
     "elapsed": 3230,
     "status": "ok",
     "timestamp": 1617445514103,
     "user": {
      "displayName": "youtube dacon",
      "photoUrl": "",
      "userId": "00770885000471893693"
     },
     "user_tz": -540
    },
    "id": "4rjWkfEXDch1"
   },
   "outputs": [],
   "source": [
    "unique_len = train.apply(lambda x : len(x.unique()))"
   ]
  },
  {
   "cell_type": "code",
   "execution_count": 17,
   "metadata": {
    "colab": {
     "base_uri": "https://localhost:8080/"
    },
    "executionInfo": {
     "elapsed": 3221,
     "status": "ok",
     "timestamp": 1617445514104,
     "user": {
      "displayName": "youtube dacon",
      "photoUrl": "",
      "userId": "00770885000471893693"
     },
     "user_tz": -540
    },
    "id": "d164flCfDcfa",
    "outputId": "6ac51e63-4401-46de-eb29-cc1d5a896024"
   },
   "outputs": [
    {
     "data": {
      "text/plain": [
       "index            26457\n",
       "gender               2\n",
       "car                  2\n",
       "reality              2\n",
       "child_num            9\n",
       "income_total       249\n",
       "income_type          5\n",
       "edu_type             5\n",
       "family_type          5\n",
       "house_type           6\n",
       "DAYS_BIRTH        6621\n",
       "DAYS_EMPLOYED     3470\n",
       "FLAG_MOBIL           1\n",
       "work_phone           2\n",
       "phone                2\n",
       "email                2\n",
       "family_size         10\n",
       "begin_month         61\n",
       "credit               3\n",
       "dtype: int64"
      ]
     },
     "execution_count": 17,
     "metadata": {},
     "output_type": "execute_result"
    }
   ],
   "source": [
    "unique_len"
   ]
  },
  {
   "cell_type": "markdown",
   "metadata": {
    "id": "dH0uL6apGn9W"
   },
   "source": [
    "1. 2개 이하\n",
    "2. 2개 초과 10개 이하\n",
    "3. 10개 초과"
   ]
  },
  {
   "cell_type": "code",
   "execution_count": 18,
   "metadata": {
    "colab": {
     "base_uri": "https://localhost:8080/"
    },
    "executionInfo": {
     "elapsed": 3208,
     "status": "ok",
     "timestamp": 1617445514105,
     "user": {
      "displayName": "youtube dacon",
      "photoUrl": "",
      "userId": "00770885000471893693"
     },
     "user_tz": -540
    },
    "id": "JA_z-Vo9wx2O",
    "outputId": "88d78a2d-7de5-4221-b69e-f96437bdfae0"
   },
   "outputs": [
    {
     "data": {
      "text/plain": [
       "Index(['gender', 'car', 'reality', 'FLAG_MOBIL', 'work_phone', 'phone',\n",
       "       'email'],\n",
       "      dtype='object')"
      ]
     },
     "execution_count": 18,
     "metadata": {},
     "output_type": "execute_result"
    }
   ],
   "source": [
    "group_1 = unique_len[unique_len <= 2].index\n",
    "group_1"
   ]
  },
  {
   "cell_type": "code",
   "execution_count": 19,
   "metadata": {
    "colab": {
     "base_uri": "https://localhost:8080/"
    },
    "executionInfo": {
     "elapsed": 3195,
     "status": "ok",
     "timestamp": 1617445514106,
     "user": {
      "displayName": "youtube dacon",
      "photoUrl": "",
      "userId": "00770885000471893693"
     },
     "user_tz": -540
    },
    "id": "uGpyBn5PwxzI",
    "outputId": "43b6eaad-b912-4e1d-946a-0a7552143dd8"
   },
   "outputs": [
    {
     "data": {
      "text/plain": [
       "Index(['child_num', 'income_type', 'edu_type', 'family_type', 'house_type',\n",
       "       'family_size', 'credit'],\n",
       "      dtype='object')"
      ]
     },
     "execution_count": 19,
     "metadata": {},
     "output_type": "execute_result"
    }
   ],
   "source": [
    "group_2 = unique_len[(unique_len > 2)\\\n",
    "             & (unique_len <= 10)].index\n",
    "group_2"
   ]
  },
  {
   "cell_type": "code",
   "execution_count": 20,
   "metadata": {
    "colab": {
     "base_uri": "https://localhost:8080/"
    },
    "executionInfo": {
     "elapsed": 3178,
     "status": "ok",
     "timestamp": 1617445514107,
     "user": {
      "displayName": "youtube dacon",
      "photoUrl": "",
      "userId": "00770885000471893693"
     },
     "user_tz": -540
    },
    "id": "8mRNQuQFwxwl",
    "outputId": "00c2fa43-7c1a-40a5-989c-7c39417bcb57"
   },
   "outputs": [
    {
     "data": {
      "text/plain": [
       "Index(['index', 'income_total', 'DAYS_BIRTH', 'DAYS_EMPLOYED', 'begin_month'], dtype='object')"
      ]
     },
     "execution_count": 20,
     "metadata": {},
     "output_type": "execute_result"
    }
   ],
   "source": [
    "group_3 = unique_len[(unique_len > 10)].index\n",
    "group_3"
   ]
  },
  {
   "cell_type": "code",
   "execution_count": 21,
   "metadata": {
    "colab": {
     "base_uri": "https://localhost:8080/",
     "height": 415
    },
    "executionInfo": {
     "elapsed": 3562,
     "status": "ok",
     "timestamp": 1617445514508,
     "user": {
      "displayName": "youtube dacon",
      "photoUrl": "",
      "userId": "00770885000471893693"
     },
     "user_tz": -540
    },
    "id": "vnStrUnmZWId",
    "outputId": "a2e0b64b-3797-4a94-cd46-4b34b470d28c"
   },
   "outputs": [
    {
     "data": {
      "text/html": [
       "<div>\n",
       "<style scoped>\n",
       "    .dataframe tbody tr th:only-of-type {\n",
       "        vertical-align: middle;\n",
       "    }\n",
       "\n",
       "    .dataframe tbody tr th {\n",
       "        vertical-align: top;\n",
       "    }\n",
       "\n",
       "    .dataframe thead th {\n",
       "        text-align: right;\n",
       "    }\n",
       "</style>\n",
       "<table border=\"1\" class=\"dataframe\">\n",
       "  <thead>\n",
       "    <tr style=\"text-align: right;\">\n",
       "      <th></th>\n",
       "      <th>gender</th>\n",
       "      <th>car</th>\n",
       "      <th>reality</th>\n",
       "      <th>FLAG_MOBIL</th>\n",
       "      <th>work_phone</th>\n",
       "      <th>phone</th>\n",
       "      <th>email</th>\n",
       "    </tr>\n",
       "  </thead>\n",
       "  <tbody>\n",
       "    <tr>\n",
       "      <th>0</th>\n",
       "      <td>F</td>\n",
       "      <td>N</td>\n",
       "      <td>N</td>\n",
       "      <td>1</td>\n",
       "      <td>0</td>\n",
       "      <td>0</td>\n",
       "      <td>0</td>\n",
       "    </tr>\n",
       "    <tr>\n",
       "      <th>1</th>\n",
       "      <td>F</td>\n",
       "      <td>N</td>\n",
       "      <td>Y</td>\n",
       "      <td>1</td>\n",
       "      <td>0</td>\n",
       "      <td>0</td>\n",
       "      <td>1</td>\n",
       "    </tr>\n",
       "    <tr>\n",
       "      <th>2</th>\n",
       "      <td>M</td>\n",
       "      <td>Y</td>\n",
       "      <td>Y</td>\n",
       "      <td>1</td>\n",
       "      <td>0</td>\n",
       "      <td>1</td>\n",
       "      <td>0</td>\n",
       "    </tr>\n",
       "    <tr>\n",
       "      <th>3</th>\n",
       "      <td>F</td>\n",
       "      <td>N</td>\n",
       "      <td>Y</td>\n",
       "      <td>1</td>\n",
       "      <td>0</td>\n",
       "      <td>1</td>\n",
       "      <td>0</td>\n",
       "    </tr>\n",
       "    <tr>\n",
       "      <th>4</th>\n",
       "      <td>F</td>\n",
       "      <td>Y</td>\n",
       "      <td>Y</td>\n",
       "      <td>1</td>\n",
       "      <td>0</td>\n",
       "      <td>0</td>\n",
       "      <td>0</td>\n",
       "    </tr>\n",
       "    <tr>\n",
       "      <th>...</th>\n",
       "      <td>...</td>\n",
       "      <td>...</td>\n",
       "      <td>...</td>\n",
       "      <td>...</td>\n",
       "      <td>...</td>\n",
       "      <td>...</td>\n",
       "      <td>...</td>\n",
       "    </tr>\n",
       "    <tr>\n",
       "      <th>26452</th>\n",
       "      <td>F</td>\n",
       "      <td>N</td>\n",
       "      <td>N</td>\n",
       "      <td>1</td>\n",
       "      <td>0</td>\n",
       "      <td>0</td>\n",
       "      <td>0</td>\n",
       "    </tr>\n",
       "    <tr>\n",
       "      <th>26453</th>\n",
       "      <td>F</td>\n",
       "      <td>N</td>\n",
       "      <td>Y</td>\n",
       "      <td>1</td>\n",
       "      <td>0</td>\n",
       "      <td>0</td>\n",
       "      <td>0</td>\n",
       "    </tr>\n",
       "    <tr>\n",
       "      <th>26454</th>\n",
       "      <td>F</td>\n",
       "      <td>Y</td>\n",
       "      <td>N</td>\n",
       "      <td>1</td>\n",
       "      <td>0</td>\n",
       "      <td>0</td>\n",
       "      <td>0</td>\n",
       "    </tr>\n",
       "    <tr>\n",
       "      <th>26455</th>\n",
       "      <td>M</td>\n",
       "      <td>N</td>\n",
       "      <td>Y</td>\n",
       "      <td>1</td>\n",
       "      <td>0</td>\n",
       "      <td>0</td>\n",
       "      <td>0</td>\n",
       "    </tr>\n",
       "    <tr>\n",
       "      <th>26456</th>\n",
       "      <td>F</td>\n",
       "      <td>N</td>\n",
       "      <td>N</td>\n",
       "      <td>1</td>\n",
       "      <td>0</td>\n",
       "      <td>0</td>\n",
       "      <td>0</td>\n",
       "    </tr>\n",
       "  </tbody>\n",
       "</table>\n",
       "<p>26457 rows × 7 columns</p>\n",
       "</div>"
      ],
      "text/plain": [
       "      gender car reality  FLAG_MOBIL  work_phone  phone  email\n",
       "0          F   N       N           1           0      0      0\n",
       "1          F   N       Y           1           0      0      1\n",
       "2          M   Y       Y           1           0      1      0\n",
       "3          F   N       Y           1           0      1      0\n",
       "4          F   Y       Y           1           0      0      0\n",
       "...      ...  ..     ...         ...         ...    ...    ...\n",
       "26452      F   N       N           1           0      0      0\n",
       "26453      F   N       Y           1           0      0      0\n",
       "26454      F   Y       N           1           0      0      0\n",
       "26455      M   N       Y           1           0      0      0\n",
       "26456      F   N       N           1           0      0      0\n",
       "\n",
       "[26457 rows x 7 columns]"
      ]
     },
     "execution_count": 21,
     "metadata": {},
     "output_type": "execute_result"
    }
   ],
   "source": [
    "train[group_1]"
   ]
  },
  {
   "cell_type": "code",
   "execution_count": 22,
   "metadata": {
    "colab": {
     "base_uri": "https://localhost:8080/"
    },
    "executionInfo": {
     "elapsed": 3546,
     "status": "ok",
     "timestamp": 1617445514510,
     "user": {
      "displayName": "youtube dacon",
      "photoUrl": "",
      "userId": "00770885000471893693"
     },
     "user_tz": -540
    },
    "id": "z-8g1ZERZWGp",
    "outputId": "c1c22793-9633-46f2-f6de-922ee7652bd5"
   },
   "outputs": [
    {
     "data": {
      "text/plain": [
       "array(['F', 'M'], dtype=object)"
      ]
     },
     "execution_count": 22,
     "metadata": {},
     "output_type": "execute_result"
    }
   ],
   "source": [
    "train['gender'].unique()"
   ]
  },
  {
   "cell_type": "code",
   "execution_count": 23,
   "metadata": {
    "colab": {
     "base_uri": "https://localhost:8080/"
    },
    "executionInfo": {
     "elapsed": 3532,
     "status": "ok",
     "timestamp": 1617445514511,
     "user": {
      "displayName": "youtube dacon",
      "photoUrl": "",
      "userId": "00770885000471893693"
     },
     "user_tz": -540
    },
    "id": "jZNrLl9IIwFk",
    "outputId": "7e69c6bd-c782-476b-b394-2b60be94d655"
   },
   "outputs": [
    {
     "data": {
      "text/plain": [
       "0        F\n",
       "1        F\n",
       "2        M\n",
       "3        F\n",
       "4        F\n",
       "        ..\n",
       "26452    F\n",
       "26453    F\n",
       "26454    F\n",
       "26455    M\n",
       "26456    F\n",
       "Name: gender, Length: 26457, dtype: object"
      ]
     },
     "execution_count": 23,
     "metadata": {},
     "output_type": "execute_result"
    }
   ],
   "source": [
    "train['gender']"
   ]
  },
  {
   "cell_type": "code",
   "execution_count": 24,
   "metadata": {
    "executionInfo": {
     "elapsed": 3521,
     "status": "ok",
     "timestamp": 1617445514512,
     "user": {
      "displayName": "youtube dacon",
      "photoUrl": "",
      "userId": "00770885000471893693"
     },
     "user_tz": -540
    },
    "id": "k67KqEL8ZWEI"
   },
   "outputs": [],
   "source": [
    "train['gender'] = train['gender'].replace(['F','M'], [0,  1])\n",
    "test['gender'] = test['gender'].replace(['F','M'], [0,  1])"
   ]
  },
  {
   "cell_type": "code",
   "execution_count": 25,
   "metadata": {
    "colab": {
     "base_uri": "https://localhost:8080/"
    },
    "executionInfo": {
     "elapsed": 3511,
     "status": "ok",
     "timestamp": 1617445514514,
     "user": {
      "displayName": "youtube dacon",
      "photoUrl": "",
      "userId": "00770885000471893693"
     },
     "user_tz": -540
    },
    "id": "cd0SokncZWBz",
    "outputId": "2b07f36f-fcae-4fdf-ab99-1fe5f42ded12"
   },
   "outputs": [
    {
     "data": {
      "text/plain": [
       "0        0\n",
       "1        0\n",
       "2        1\n",
       "3        0\n",
       "4        0\n",
       "        ..\n",
       "26452    0\n",
       "26453    0\n",
       "26454    0\n",
       "26455    1\n",
       "26456    0\n",
       "Name: gender, Length: 26457, dtype: int64"
      ]
     },
     "execution_count": 25,
     "metadata": {},
     "output_type": "execute_result"
    }
   ],
   "source": [
    "train['gender']"
   ]
  },
  {
   "cell_type": "code",
   "execution_count": 26,
   "metadata": {
    "colab": {
     "base_uri": "https://localhost:8080/",
     "height": 415
    },
    "executionInfo": {
     "elapsed": 3498,
     "status": "ok",
     "timestamp": 1617445514515,
     "user": {
      "displayName": "youtube dacon",
      "photoUrl": "",
      "userId": "00770885000471893693"
     },
     "user_tz": -540
    },
    "id": "-dfo4cI5ZV_p",
    "outputId": "bc4db80b-c79f-41c0-fded-a43f4055b3ac"
   },
   "outputs": [
    {
     "data": {
      "text/html": [
       "<div>\n",
       "<style scoped>\n",
       "    .dataframe tbody tr th:only-of-type {\n",
       "        vertical-align: middle;\n",
       "    }\n",
       "\n",
       "    .dataframe tbody tr th {\n",
       "        vertical-align: top;\n",
       "    }\n",
       "\n",
       "    .dataframe thead th {\n",
       "        text-align: right;\n",
       "    }\n",
       "</style>\n",
       "<table border=\"1\" class=\"dataframe\">\n",
       "  <thead>\n",
       "    <tr style=\"text-align: right;\">\n",
       "      <th></th>\n",
       "      <th>gender</th>\n",
       "      <th>car</th>\n",
       "      <th>reality</th>\n",
       "      <th>FLAG_MOBIL</th>\n",
       "      <th>work_phone</th>\n",
       "      <th>phone</th>\n",
       "      <th>email</th>\n",
       "    </tr>\n",
       "  </thead>\n",
       "  <tbody>\n",
       "    <tr>\n",
       "      <th>0</th>\n",
       "      <td>0</td>\n",
       "      <td>N</td>\n",
       "      <td>N</td>\n",
       "      <td>1</td>\n",
       "      <td>0</td>\n",
       "      <td>0</td>\n",
       "      <td>0</td>\n",
       "    </tr>\n",
       "    <tr>\n",
       "      <th>1</th>\n",
       "      <td>0</td>\n",
       "      <td>N</td>\n",
       "      <td>Y</td>\n",
       "      <td>1</td>\n",
       "      <td>0</td>\n",
       "      <td>0</td>\n",
       "      <td>1</td>\n",
       "    </tr>\n",
       "    <tr>\n",
       "      <th>2</th>\n",
       "      <td>1</td>\n",
       "      <td>Y</td>\n",
       "      <td>Y</td>\n",
       "      <td>1</td>\n",
       "      <td>0</td>\n",
       "      <td>1</td>\n",
       "      <td>0</td>\n",
       "    </tr>\n",
       "    <tr>\n",
       "      <th>3</th>\n",
       "      <td>0</td>\n",
       "      <td>N</td>\n",
       "      <td>Y</td>\n",
       "      <td>1</td>\n",
       "      <td>0</td>\n",
       "      <td>1</td>\n",
       "      <td>0</td>\n",
       "    </tr>\n",
       "    <tr>\n",
       "      <th>4</th>\n",
       "      <td>0</td>\n",
       "      <td>Y</td>\n",
       "      <td>Y</td>\n",
       "      <td>1</td>\n",
       "      <td>0</td>\n",
       "      <td>0</td>\n",
       "      <td>0</td>\n",
       "    </tr>\n",
       "    <tr>\n",
       "      <th>...</th>\n",
       "      <td>...</td>\n",
       "      <td>...</td>\n",
       "      <td>...</td>\n",
       "      <td>...</td>\n",
       "      <td>...</td>\n",
       "      <td>...</td>\n",
       "      <td>...</td>\n",
       "    </tr>\n",
       "    <tr>\n",
       "      <th>26452</th>\n",
       "      <td>0</td>\n",
       "      <td>N</td>\n",
       "      <td>N</td>\n",
       "      <td>1</td>\n",
       "      <td>0</td>\n",
       "      <td>0</td>\n",
       "      <td>0</td>\n",
       "    </tr>\n",
       "    <tr>\n",
       "      <th>26453</th>\n",
       "      <td>0</td>\n",
       "      <td>N</td>\n",
       "      <td>Y</td>\n",
       "      <td>1</td>\n",
       "      <td>0</td>\n",
       "      <td>0</td>\n",
       "      <td>0</td>\n",
       "    </tr>\n",
       "    <tr>\n",
       "      <th>26454</th>\n",
       "      <td>0</td>\n",
       "      <td>Y</td>\n",
       "      <td>N</td>\n",
       "      <td>1</td>\n",
       "      <td>0</td>\n",
       "      <td>0</td>\n",
       "      <td>0</td>\n",
       "    </tr>\n",
       "    <tr>\n",
       "      <th>26455</th>\n",
       "      <td>1</td>\n",
       "      <td>N</td>\n",
       "      <td>Y</td>\n",
       "      <td>1</td>\n",
       "      <td>0</td>\n",
       "      <td>0</td>\n",
       "      <td>0</td>\n",
       "    </tr>\n",
       "    <tr>\n",
       "      <th>26456</th>\n",
       "      <td>0</td>\n",
       "      <td>N</td>\n",
       "      <td>N</td>\n",
       "      <td>1</td>\n",
       "      <td>0</td>\n",
       "      <td>0</td>\n",
       "      <td>0</td>\n",
       "    </tr>\n",
       "  </tbody>\n",
       "</table>\n",
       "<p>26457 rows × 7 columns</p>\n",
       "</div>"
      ],
      "text/plain": [
       "       gender car reality  FLAG_MOBIL  work_phone  phone  email\n",
       "0           0   N       N           1           0      0      0\n",
       "1           0   N       Y           1           0      0      1\n",
       "2           1   Y       Y           1           0      1      0\n",
       "3           0   N       Y           1           0      1      0\n",
       "4           0   Y       Y           1           0      0      0\n",
       "...       ...  ..     ...         ...         ...    ...    ...\n",
       "26452       0   N       N           1           0      0      0\n",
       "26453       0   N       Y           1           0      0      0\n",
       "26454       0   Y       N           1           0      0      0\n",
       "26455       1   N       Y           1           0      0      0\n",
       "26456       0   N       N           1           0      0      0\n",
       "\n",
       "[26457 rows x 7 columns]"
      ]
     },
     "execution_count": 26,
     "metadata": {},
     "output_type": "execute_result"
    }
   ],
   "source": [
    "train[group_1]"
   ]
  },
  {
   "cell_type": "code",
   "execution_count": 27,
   "metadata": {
    "colab": {
     "base_uri": "https://localhost:8080/"
    },
    "executionInfo": {
     "elapsed": 3479,
     "status": "ok",
     "timestamp": 1617445514516,
     "user": {
      "displayName": "youtube dacon",
      "photoUrl": "",
      "userId": "00770885000471893693"
     },
     "user_tz": -540
    },
    "id": "0ilxWm2fI-_F",
    "outputId": "8bd0d3fa-c6e3-47d9-8e9c-c21961236158"
   },
   "outputs": [
    {
     "data": {
      "text/plain": [
       "array(['N', 'Y'], dtype=object)"
      ]
     },
     "execution_count": 27,
     "metadata": {},
     "output_type": "execute_result"
    }
   ],
   "source": [
    "train['car'].unique()"
   ]
  },
  {
   "cell_type": "code",
   "execution_count": 28,
   "metadata": {
    "executionInfo": {
     "elapsed": 3468,
     "status": "ok",
     "timestamp": 1617445514518,
     "user": {
      "displayName": "youtube dacon",
      "photoUrl": "",
      "userId": "00770885000471893693"
     },
     "user_tz": -540
    },
    "id": "A4CzaMyQZV9k"
   },
   "outputs": [],
   "source": [
    "train['car'] = train['car'].replace(['N', 'Y'], [0, 1])\n",
    "test['car'] = test['car'].replace(['N', 'Y'], [0, 1])"
   ]
  },
  {
   "cell_type": "code",
   "execution_count": 29,
   "metadata": {
    "colab": {
     "base_uri": "https://localhost:8080/",
     "height": 415
    },
    "executionInfo": {
     "elapsed": 3456,
     "status": "ok",
     "timestamp": 1617445514519,
     "user": {
      "displayName": "youtube dacon",
      "photoUrl": "",
      "userId": "00770885000471893693"
     },
     "user_tz": -540
    },
    "id": "Gw8GQXu1ZV7k",
    "outputId": "f1cee9b5-b4fa-4aca-f2c7-d70b3b1772d9"
   },
   "outputs": [
    {
     "data": {
      "text/html": [
       "<div>\n",
       "<style scoped>\n",
       "    .dataframe tbody tr th:only-of-type {\n",
       "        vertical-align: middle;\n",
       "    }\n",
       "\n",
       "    .dataframe tbody tr th {\n",
       "        vertical-align: top;\n",
       "    }\n",
       "\n",
       "    .dataframe thead th {\n",
       "        text-align: right;\n",
       "    }\n",
       "</style>\n",
       "<table border=\"1\" class=\"dataframe\">\n",
       "  <thead>\n",
       "    <tr style=\"text-align: right;\">\n",
       "      <th></th>\n",
       "      <th>gender</th>\n",
       "      <th>car</th>\n",
       "      <th>reality</th>\n",
       "      <th>FLAG_MOBIL</th>\n",
       "      <th>work_phone</th>\n",
       "      <th>phone</th>\n",
       "      <th>email</th>\n",
       "    </tr>\n",
       "  </thead>\n",
       "  <tbody>\n",
       "    <tr>\n",
       "      <th>0</th>\n",
       "      <td>0</td>\n",
       "      <td>0</td>\n",
       "      <td>N</td>\n",
       "      <td>1</td>\n",
       "      <td>0</td>\n",
       "      <td>0</td>\n",
       "      <td>0</td>\n",
       "    </tr>\n",
       "    <tr>\n",
       "      <th>1</th>\n",
       "      <td>0</td>\n",
       "      <td>0</td>\n",
       "      <td>Y</td>\n",
       "      <td>1</td>\n",
       "      <td>0</td>\n",
       "      <td>0</td>\n",
       "      <td>1</td>\n",
       "    </tr>\n",
       "    <tr>\n",
       "      <th>2</th>\n",
       "      <td>1</td>\n",
       "      <td>1</td>\n",
       "      <td>Y</td>\n",
       "      <td>1</td>\n",
       "      <td>0</td>\n",
       "      <td>1</td>\n",
       "      <td>0</td>\n",
       "    </tr>\n",
       "    <tr>\n",
       "      <th>3</th>\n",
       "      <td>0</td>\n",
       "      <td>0</td>\n",
       "      <td>Y</td>\n",
       "      <td>1</td>\n",
       "      <td>0</td>\n",
       "      <td>1</td>\n",
       "      <td>0</td>\n",
       "    </tr>\n",
       "    <tr>\n",
       "      <th>4</th>\n",
       "      <td>0</td>\n",
       "      <td>1</td>\n",
       "      <td>Y</td>\n",
       "      <td>1</td>\n",
       "      <td>0</td>\n",
       "      <td>0</td>\n",
       "      <td>0</td>\n",
       "    </tr>\n",
       "    <tr>\n",
       "      <th>...</th>\n",
       "      <td>...</td>\n",
       "      <td>...</td>\n",
       "      <td>...</td>\n",
       "      <td>...</td>\n",
       "      <td>...</td>\n",
       "      <td>...</td>\n",
       "      <td>...</td>\n",
       "    </tr>\n",
       "    <tr>\n",
       "      <th>26452</th>\n",
       "      <td>0</td>\n",
       "      <td>0</td>\n",
       "      <td>N</td>\n",
       "      <td>1</td>\n",
       "      <td>0</td>\n",
       "      <td>0</td>\n",
       "      <td>0</td>\n",
       "    </tr>\n",
       "    <tr>\n",
       "      <th>26453</th>\n",
       "      <td>0</td>\n",
       "      <td>0</td>\n",
       "      <td>Y</td>\n",
       "      <td>1</td>\n",
       "      <td>0</td>\n",
       "      <td>0</td>\n",
       "      <td>0</td>\n",
       "    </tr>\n",
       "    <tr>\n",
       "      <th>26454</th>\n",
       "      <td>0</td>\n",
       "      <td>1</td>\n",
       "      <td>N</td>\n",
       "      <td>1</td>\n",
       "      <td>0</td>\n",
       "      <td>0</td>\n",
       "      <td>0</td>\n",
       "    </tr>\n",
       "    <tr>\n",
       "      <th>26455</th>\n",
       "      <td>1</td>\n",
       "      <td>0</td>\n",
       "      <td>Y</td>\n",
       "      <td>1</td>\n",
       "      <td>0</td>\n",
       "      <td>0</td>\n",
       "      <td>0</td>\n",
       "    </tr>\n",
       "    <tr>\n",
       "      <th>26456</th>\n",
       "      <td>0</td>\n",
       "      <td>0</td>\n",
       "      <td>N</td>\n",
       "      <td>1</td>\n",
       "      <td>0</td>\n",
       "      <td>0</td>\n",
       "      <td>0</td>\n",
       "    </tr>\n",
       "  </tbody>\n",
       "</table>\n",
       "<p>26457 rows × 7 columns</p>\n",
       "</div>"
      ],
      "text/plain": [
       "       gender  car reality  FLAG_MOBIL  work_phone  phone  email\n",
       "0           0    0       N           1           0      0      0\n",
       "1           0    0       Y           1           0      0      1\n",
       "2           1    1       Y           1           0      1      0\n",
       "3           0    0       Y           1           0      1      0\n",
       "4           0    1       Y           1           0      0      0\n",
       "...       ...  ...     ...         ...         ...    ...    ...\n",
       "26452       0    0       N           1           0      0      0\n",
       "26453       0    0       Y           1           0      0      0\n",
       "26454       0    1       N           1           0      0      0\n",
       "26455       1    0       Y           1           0      0      0\n",
       "26456       0    0       N           1           0      0      0\n",
       "\n",
       "[26457 rows x 7 columns]"
      ]
     },
     "execution_count": 29,
     "metadata": {},
     "output_type": "execute_result"
    }
   ],
   "source": [
    "train[group_1]"
   ]
  },
  {
   "cell_type": "code",
   "execution_count": 30,
   "metadata": {
    "colab": {
     "base_uri": "https://localhost:8080/"
    },
    "executionInfo": {
     "elapsed": 3441,
     "status": "ok",
     "timestamp": 1617445514520,
     "user": {
      "displayName": "youtube dacon",
      "photoUrl": "",
      "userId": "00770885000471893693"
     },
     "user_tz": -540
    },
    "id": "_lO0ut6tZV5I",
    "outputId": "591b75f4-6cde-4e21-f43a-b8167b9322a5"
   },
   "outputs": [
    {
     "data": {
      "text/plain": [
       "array(['N', 'Y'], dtype=object)"
      ]
     },
     "execution_count": 30,
     "metadata": {},
     "output_type": "execute_result"
    }
   ],
   "source": [
    "train['reality'].unique()"
   ]
  },
  {
   "cell_type": "code",
   "execution_count": 31,
   "metadata": {
    "executionInfo": {
     "elapsed": 3430,
     "status": "ok",
     "timestamp": 1617445514522,
     "user": {
      "displayName": "youtube dacon",
      "photoUrl": "",
      "userId": "00770885000471893693"
     },
     "user_tz": -540
    },
    "id": "P1ks4agdJI-A"
   },
   "outputs": [],
   "source": [
    "train['reality'] = train['reality'].replace(['N', 'Y'], [0, 1])\n",
    "test['reality'] = test['reality'].replace(['N', 'Y'], [0, 1])"
   ]
  },
  {
   "cell_type": "code",
   "execution_count": 32,
   "metadata": {
    "colab": {
     "base_uri": "https://localhost:8080/",
     "height": 415
    },
    "executionInfo": {
     "elapsed": 3419,
     "status": "ok",
     "timestamp": 1617445514523,
     "user": {
      "displayName": "youtube dacon",
      "photoUrl": "",
      "userId": "00770885000471893693"
     },
     "user_tz": -540
    },
    "id": "BMhmGDKnJL6q",
    "outputId": "8b3abcd3-9a7f-474a-b127-ec2e52de1915"
   },
   "outputs": [
    {
     "data": {
      "text/html": [
       "<div>\n",
       "<style scoped>\n",
       "    .dataframe tbody tr th:only-of-type {\n",
       "        vertical-align: middle;\n",
       "    }\n",
       "\n",
       "    .dataframe tbody tr th {\n",
       "        vertical-align: top;\n",
       "    }\n",
       "\n",
       "    .dataframe thead th {\n",
       "        text-align: right;\n",
       "    }\n",
       "</style>\n",
       "<table border=\"1\" class=\"dataframe\">\n",
       "  <thead>\n",
       "    <tr style=\"text-align: right;\">\n",
       "      <th></th>\n",
       "      <th>gender</th>\n",
       "      <th>car</th>\n",
       "      <th>reality</th>\n",
       "      <th>FLAG_MOBIL</th>\n",
       "      <th>work_phone</th>\n",
       "      <th>phone</th>\n",
       "      <th>email</th>\n",
       "    </tr>\n",
       "  </thead>\n",
       "  <tbody>\n",
       "    <tr>\n",
       "      <th>0</th>\n",
       "      <td>0</td>\n",
       "      <td>0</td>\n",
       "      <td>0</td>\n",
       "      <td>1</td>\n",
       "      <td>0</td>\n",
       "      <td>0</td>\n",
       "      <td>0</td>\n",
       "    </tr>\n",
       "    <tr>\n",
       "      <th>1</th>\n",
       "      <td>0</td>\n",
       "      <td>0</td>\n",
       "      <td>1</td>\n",
       "      <td>1</td>\n",
       "      <td>0</td>\n",
       "      <td>0</td>\n",
       "      <td>1</td>\n",
       "    </tr>\n",
       "    <tr>\n",
       "      <th>2</th>\n",
       "      <td>1</td>\n",
       "      <td>1</td>\n",
       "      <td>1</td>\n",
       "      <td>1</td>\n",
       "      <td>0</td>\n",
       "      <td>1</td>\n",
       "      <td>0</td>\n",
       "    </tr>\n",
       "    <tr>\n",
       "      <th>3</th>\n",
       "      <td>0</td>\n",
       "      <td>0</td>\n",
       "      <td>1</td>\n",
       "      <td>1</td>\n",
       "      <td>0</td>\n",
       "      <td>1</td>\n",
       "      <td>0</td>\n",
       "    </tr>\n",
       "    <tr>\n",
       "      <th>4</th>\n",
       "      <td>0</td>\n",
       "      <td>1</td>\n",
       "      <td>1</td>\n",
       "      <td>1</td>\n",
       "      <td>0</td>\n",
       "      <td>0</td>\n",
       "      <td>0</td>\n",
       "    </tr>\n",
       "    <tr>\n",
       "      <th>...</th>\n",
       "      <td>...</td>\n",
       "      <td>...</td>\n",
       "      <td>...</td>\n",
       "      <td>...</td>\n",
       "      <td>...</td>\n",
       "      <td>...</td>\n",
       "      <td>...</td>\n",
       "    </tr>\n",
       "    <tr>\n",
       "      <th>26452</th>\n",
       "      <td>0</td>\n",
       "      <td>0</td>\n",
       "      <td>0</td>\n",
       "      <td>1</td>\n",
       "      <td>0</td>\n",
       "      <td>0</td>\n",
       "      <td>0</td>\n",
       "    </tr>\n",
       "    <tr>\n",
       "      <th>26453</th>\n",
       "      <td>0</td>\n",
       "      <td>0</td>\n",
       "      <td>1</td>\n",
       "      <td>1</td>\n",
       "      <td>0</td>\n",
       "      <td>0</td>\n",
       "      <td>0</td>\n",
       "    </tr>\n",
       "    <tr>\n",
       "      <th>26454</th>\n",
       "      <td>0</td>\n",
       "      <td>1</td>\n",
       "      <td>0</td>\n",
       "      <td>1</td>\n",
       "      <td>0</td>\n",
       "      <td>0</td>\n",
       "      <td>0</td>\n",
       "    </tr>\n",
       "    <tr>\n",
       "      <th>26455</th>\n",
       "      <td>1</td>\n",
       "      <td>0</td>\n",
       "      <td>1</td>\n",
       "      <td>1</td>\n",
       "      <td>0</td>\n",
       "      <td>0</td>\n",
       "      <td>0</td>\n",
       "    </tr>\n",
       "    <tr>\n",
       "      <th>26456</th>\n",
       "      <td>0</td>\n",
       "      <td>0</td>\n",
       "      <td>0</td>\n",
       "      <td>1</td>\n",
       "      <td>0</td>\n",
       "      <td>0</td>\n",
       "      <td>0</td>\n",
       "    </tr>\n",
       "  </tbody>\n",
       "</table>\n",
       "<p>26457 rows × 7 columns</p>\n",
       "</div>"
      ],
      "text/plain": [
       "       gender  car  reality  FLAG_MOBIL  work_phone  phone  email\n",
       "0           0    0        0           1           0      0      0\n",
       "1           0    0        1           1           0      0      1\n",
       "2           1    1        1           1           0      1      0\n",
       "3           0    0        1           1           0      1      0\n",
       "4           0    1        1           1           0      0      0\n",
       "...       ...  ...      ...         ...         ...    ...    ...\n",
       "26452       0    0        0           1           0      0      0\n",
       "26453       0    0        1           1           0      0      0\n",
       "26454       0    1        0           1           0      0      0\n",
       "26455       1    0        1           1           0      0      0\n",
       "26456       0    0        0           1           0      0      0\n",
       "\n",
       "[26457 rows x 7 columns]"
      ]
     },
     "execution_count": 32,
     "metadata": {},
     "output_type": "execute_result"
    }
   ],
   "source": [
    "train[group_1]"
   ]
  },
  {
   "cell_type": "code",
   "execution_count": 33,
   "metadata": {
    "colab": {
     "base_uri": "https://localhost:8080/",
     "height": 415
    },
    "executionInfo": {
     "elapsed": 3405,
     "status": "ok",
     "timestamp": 1617445514525,
     "user": {
      "displayName": "youtube dacon",
      "photoUrl": "",
      "userId": "00770885000471893693"
     },
     "user_tz": -540
    },
    "id": "lrpImL_6JNq0",
    "outputId": "1a4b7900-a0fd-4bd3-a57a-fab907b869b9"
   },
   "outputs": [
    {
     "data": {
      "text/html": [
       "<div>\n",
       "<style scoped>\n",
       "    .dataframe tbody tr th:only-of-type {\n",
       "        vertical-align: middle;\n",
       "    }\n",
       "\n",
       "    .dataframe tbody tr th {\n",
       "        vertical-align: top;\n",
       "    }\n",
       "\n",
       "    .dataframe thead th {\n",
       "        text-align: right;\n",
       "    }\n",
       "</style>\n",
       "<table border=\"1\" class=\"dataframe\">\n",
       "  <thead>\n",
       "    <tr style=\"text-align: right;\">\n",
       "      <th></th>\n",
       "      <th>child_num</th>\n",
       "      <th>income_type</th>\n",
       "      <th>edu_type</th>\n",
       "      <th>family_type</th>\n",
       "      <th>house_type</th>\n",
       "      <th>family_size</th>\n",
       "      <th>credit</th>\n",
       "    </tr>\n",
       "  </thead>\n",
       "  <tbody>\n",
       "    <tr>\n",
       "      <th>0</th>\n",
       "      <td>0</td>\n",
       "      <td>Commercial associate</td>\n",
       "      <td>Higher education</td>\n",
       "      <td>Married</td>\n",
       "      <td>Municipal apartment</td>\n",
       "      <td>2.0</td>\n",
       "      <td>1.0</td>\n",
       "    </tr>\n",
       "    <tr>\n",
       "      <th>1</th>\n",
       "      <td>1</td>\n",
       "      <td>Commercial associate</td>\n",
       "      <td>Secondary / secondary special</td>\n",
       "      <td>Civil marriage</td>\n",
       "      <td>House / apartment</td>\n",
       "      <td>3.0</td>\n",
       "      <td>1.0</td>\n",
       "    </tr>\n",
       "    <tr>\n",
       "      <th>2</th>\n",
       "      <td>0</td>\n",
       "      <td>Working</td>\n",
       "      <td>Higher education</td>\n",
       "      <td>Married</td>\n",
       "      <td>House / apartment</td>\n",
       "      <td>2.0</td>\n",
       "      <td>2.0</td>\n",
       "    </tr>\n",
       "    <tr>\n",
       "      <th>3</th>\n",
       "      <td>0</td>\n",
       "      <td>Commercial associate</td>\n",
       "      <td>Secondary / secondary special</td>\n",
       "      <td>Married</td>\n",
       "      <td>House / apartment</td>\n",
       "      <td>2.0</td>\n",
       "      <td>0.0</td>\n",
       "    </tr>\n",
       "    <tr>\n",
       "      <th>4</th>\n",
       "      <td>0</td>\n",
       "      <td>State servant</td>\n",
       "      <td>Higher education</td>\n",
       "      <td>Married</td>\n",
       "      <td>House / apartment</td>\n",
       "      <td>2.0</td>\n",
       "      <td>2.0</td>\n",
       "    </tr>\n",
       "    <tr>\n",
       "      <th>...</th>\n",
       "      <td>...</td>\n",
       "      <td>...</td>\n",
       "      <td>...</td>\n",
       "      <td>...</td>\n",
       "      <td>...</td>\n",
       "      <td>...</td>\n",
       "      <td>...</td>\n",
       "    </tr>\n",
       "    <tr>\n",
       "      <th>26452</th>\n",
       "      <td>2</td>\n",
       "      <td>State servant</td>\n",
       "      <td>Secondary / secondary special</td>\n",
       "      <td>Married</td>\n",
       "      <td>House / apartment</td>\n",
       "      <td>4.0</td>\n",
       "      <td>1.0</td>\n",
       "    </tr>\n",
       "    <tr>\n",
       "      <th>26453</th>\n",
       "      <td>1</td>\n",
       "      <td>Working</td>\n",
       "      <td>Higher education</td>\n",
       "      <td>Separated</td>\n",
       "      <td>House / apartment</td>\n",
       "      <td>2.0</td>\n",
       "      <td>2.0</td>\n",
       "    </tr>\n",
       "    <tr>\n",
       "      <th>26454</th>\n",
       "      <td>0</td>\n",
       "      <td>Working</td>\n",
       "      <td>Secondary / secondary special</td>\n",
       "      <td>Civil marriage</td>\n",
       "      <td>With parents</td>\n",
       "      <td>2.0</td>\n",
       "      <td>2.0</td>\n",
       "    </tr>\n",
       "    <tr>\n",
       "      <th>26455</th>\n",
       "      <td>0</td>\n",
       "      <td>Working</td>\n",
       "      <td>Incomplete higher</td>\n",
       "      <td>Single / not married</td>\n",
       "      <td>House / apartment</td>\n",
       "      <td>1.0</td>\n",
       "      <td>2.0</td>\n",
       "    </tr>\n",
       "    <tr>\n",
       "      <th>26456</th>\n",
       "      <td>0</td>\n",
       "      <td>Working</td>\n",
       "      <td>Secondary / secondary special</td>\n",
       "      <td>Civil marriage</td>\n",
       "      <td>House / apartment</td>\n",
       "      <td>2.0</td>\n",
       "      <td>2.0</td>\n",
       "    </tr>\n",
       "  </tbody>\n",
       "</table>\n",
       "<p>26457 rows × 7 columns</p>\n",
       "</div>"
      ],
      "text/plain": [
       "       child_num           income_type                       edu_type  \\\n",
       "0              0  Commercial associate               Higher education   \n",
       "1              1  Commercial associate  Secondary / secondary special   \n",
       "2              0               Working               Higher education   \n",
       "3              0  Commercial associate  Secondary / secondary special   \n",
       "4              0         State servant               Higher education   \n",
       "...          ...                   ...                            ...   \n",
       "26452          2         State servant  Secondary / secondary special   \n",
       "26453          1               Working               Higher education   \n",
       "26454          0               Working  Secondary / secondary special   \n",
       "26455          0               Working              Incomplete higher   \n",
       "26456          0               Working  Secondary / secondary special   \n",
       "\n",
       "                family_type           house_type  family_size  credit  \n",
       "0                   Married  Municipal apartment          2.0     1.0  \n",
       "1            Civil marriage    House / apartment          3.0     1.0  \n",
       "2                   Married    House / apartment          2.0     2.0  \n",
       "3                   Married    House / apartment          2.0     0.0  \n",
       "4                   Married    House / apartment          2.0     2.0  \n",
       "...                     ...                  ...          ...     ...  \n",
       "26452               Married    House / apartment          4.0     1.0  \n",
       "26453             Separated    House / apartment          2.0     2.0  \n",
       "26454        Civil marriage         With parents          2.0     2.0  \n",
       "26455  Single / not married    House / apartment          1.0     2.0  \n",
       "26456        Civil marriage    House / apartment          2.0     2.0  \n",
       "\n",
       "[26457 rows x 7 columns]"
      ]
     },
     "execution_count": 33,
     "metadata": {},
     "output_type": "execute_result"
    }
   ],
   "source": [
    "train[group_2]"
   ]
  },
  {
   "cell_type": "code",
   "execution_count": 34,
   "metadata": {
    "colab": {
     "base_uri": "https://localhost:8080/",
     "height": 287
    },
    "executionInfo": {
     "elapsed": 4234,
     "status": "ok",
     "timestamp": 1617445515371,
     "user": {
      "displayName": "youtube dacon",
      "photoUrl": "",
      "userId": "00770885000471893693"
     },
     "user_tz": -540
    },
    "id": "AXlL5Q1WMfQc",
    "outputId": "00d2cfd4-a476-4663-95e2-6444c4635f14"
   },
   "outputs": [
    {
     "data": {
      "text/plain": [
       "<AxesSubplot:>"
      ]
     },
     "execution_count": 34,
     "metadata": {},
     "output_type": "execute_result"
    },
    {
     "data": {
      "image/png": "[encoded data removed]",
      "text/plain": [
       "<Figure size 432x288 with 1 Axes>"
      ]
     },
     "metadata": {
      "needs_background": "light"
     },
     "output_type": "display_data"
    }
   ],
   "source": [
    "train[\"child_num\"].value_counts().plot.bar()"
   ]
  },
  {
   "cell_type": "code",
   "execution_count": 35,
   "metadata": {
    "executionInfo": {
     "elapsed": 4221,
     "status": "ok",
     "timestamp": 1617445515372,
     "user": {
      "displayName": "youtube dacon",
      "photoUrl": "",
      "userId": "00770885000471893693"
     },
     "user_tz": -540
    },
    "id": "SLmMF_gpMvb_"
   },
   "outputs": [],
   "source": [
    "train.loc[train['child_num'] > 2, 'child_num'] = 2"
   ]
  },
  {
   "cell_type": "code",
   "execution_count": 36,
   "metadata": {
    "colab": {
     "base_uri": "https://localhost:8080/",
     "height": 281
    },
    "executionInfo": {
     "elapsed": 4208,
     "status": "ok",
     "timestamp": 1617445515373,
     "user": {
      "displayName": "youtube dacon",
      "photoUrl": "",
      "userId": "00770885000471893693"
     },
     "user_tz": -540
    },
    "id": "7xHE6jD6M-Yj",
    "outputId": "ba5d815b-41e6-4904-8d1f-ef19956487fb"
   },
   "outputs": [
    {
     "data": {
      "text/plain": [
       "<AxesSubplot:>"
      ]
     },
     "execution_count": 36,
     "metadata": {},
     "output_type": "execute_result"
    },
    {
     "data": {
      "image/png": "[encoded data removed]",
      "text/plain": [
       "<Figure size 432x288 with 1 Axes>"
      ]
     },
     "metadata": {
      "needs_background": "light"
     },
     "output_type": "display_data"
    }
   ],
   "source": [
    "train[\"child_num\"].value_counts().plot.bar()"
   ]
  },
  {
   "cell_type": "code",
   "execution_count": 37,
   "metadata": {
    "colab": {
     "base_uri": "https://localhost:8080/"
    },
    "executionInfo": {
     "elapsed": 4189,
     "status": "ok",
     "timestamp": 1617445515375,
     "user": {
      "displayName": "youtube dacon",
      "photoUrl": "",
      "userId": "00770885000471893693"
     },
     "user_tz": -540
    },
    "id": "qhej_yB_NPJb",
    "outputId": "19f56336-b417-496c-a137-1e53373ffba8"
   },
   "outputs": [
    {
     "data": {
      "text/plain": [
       "child_num       3\n",
       "income_type     5\n",
       "edu_type        5\n",
       "family_type     5\n",
       "house_type      6\n",
       "family_size    10\n",
       "credit          3\n",
       "dtype: int64"
      ]
     },
     "execution_count": 37,
     "metadata": {},
     "output_type": "execute_result"
    }
   ],
   "source": [
    "train[group_2].apply(lambda x : len(x.unique()))"
   ]
  },
  {
   "cell_type": "code",
   "execution_count": 38,
   "metadata": {
    "executionInfo": {
     "elapsed": 4179,
     "status": "ok",
     "timestamp": 1617445515376,
     "user": {
      "displayName": "youtube dacon",
      "photoUrl": "",
      "userId": "00770885000471893693"
     },
     "user_tz": -540
    },
    "id": "Sa-11x95Nfr2"
   },
   "outputs": [],
   "source": [
    "from sklearn import preprocessing"
   ]
  },
  {
   "cell_type": "code",
   "execution_count": 39,
   "metadata": {
    "executionInfo": {
     "elapsed": 4173,
     "status": "ok",
     "timestamp": 1617445515377,
     "user": {
      "displayName": "youtube dacon",
      "photoUrl": "",
      "userId": "00770885000471893693"
     },
     "user_tz": -540
    },
    "id": "UHlwUq64N4hK"
   },
   "outputs": [],
   "source": [
    "label_encoder = preprocessing.LabelEncoder()"
   ]
  },
  {
   "cell_type": "code",
   "execution_count": 40,
   "metadata": {
    "colab": {
     "base_uri": "https://localhost:8080/"
    },
    "executionInfo": {
     "elapsed": 4162,
     "status": "ok",
     "timestamp": 1617445515378,
     "user": {
      "displayName": "youtube dacon",
      "photoUrl": "",
      "userId": "00770885000471893693"
     },
     "user_tz": -540
    },
    "id": "Al69Suo_OFOA",
    "outputId": "4fb2e834-18f8-44e7-d6fb-bd2afce98d3d"
   },
   "outputs": [
    {
     "data": {
      "text/plain": [
       "array(['Commercial associate', 'Working', 'State servant', 'Pensioner',\n",
       "       'Student'], dtype=object)"
      ]
     },
     "execution_count": 40,
     "metadata": {},
     "output_type": "execute_result"
    }
   ],
   "source": [
    "train['income_type'].unique()"
   ]
  },
  {
   "cell_type": "code",
   "execution_count": 41,
   "metadata": {
    "colab": {
     "base_uri": "https://localhost:8080/"
    },
    "executionInfo": {
     "elapsed": 4147,
     "status": "ok",
     "timestamp": 1617445515379,
     "user": {
      "displayName": "youtube dacon",
      "photoUrl": "",
      "userId": "00770885000471893693"
     },
     "user_tz": -540
    },
    "id": "qIJZoMmkOBu8",
    "outputId": "8cb6de2e-6d90-412b-d62c-7eb5f2db6a83"
   },
   "outputs": [
    {
     "data": {
      "text/plain": [
       "{0, 1, 2, 3, 4}"
      ]
     },
     "execution_count": 41,
     "metadata": {},
     "output_type": "execute_result"
    }
   ],
   "source": [
    "set(label_encoder.fit_transform(train['income_type']))"
   ]
  },
  {
   "cell_type": "code",
   "execution_count": 42,
   "metadata": {
    "executionInfo": {
     "elapsed": 4137,
     "status": "ok",
     "timestamp": 1617445515380,
     "user": {
      "displayName": "youtube dacon",
      "photoUrl": "",
      "userId": "00770885000471893693"
     },
     "user_tz": -540
    },
    "id": "61sL9EtXOMI4"
   },
   "outputs": [],
   "source": [
    "train['income_type'] = label_encoder.fit_transform(train['income_type'])\n",
    "test['income_type'] = label_encoder.transform(test['income_type'])\n",
    "\n",
    "train['edu_type'] = label_encoder.fit_transform(train['edu_type'])\n",
    "test['edu_type'] = label_encoder.transform(test['edu_type'])\n",
    "\n",
    "train['family_type'] = label_encoder.fit_transform(train['family_type'])\n",
    "test['family_type'] = label_encoder.transform(test['family_type'])\n",
    "\n",
    "train['house_type'] = label_encoder.fit_transform(train['house_type'])\n",
    "test['house_type'] = label_encoder.transform(test['house_type'])"
   ]
  },
  {
   "cell_type": "code",
   "execution_count": 43,
   "metadata": {
    "colab": {
     "base_uri": "https://localhost:8080/",
     "height": 415
    },
    "executionInfo": {
     "elapsed": 4126,
     "status": "ok",
     "timestamp": 1617445515380,
     "user": {
      "displayName": "youtube dacon",
      "photoUrl": "",
      "userId": "00770885000471893693"
     },
     "user_tz": -540
    },
    "id": "PHmcI4qhOiwX",
    "outputId": "ea3eab4f-f30b-4d5d-c82d-8ec3fbabfbc6"
   },
   "outputs": [
    {
     "data": {
      "text/html": [
       "<div>\n",
       "<style scoped>\n",
       "    .dataframe tbody tr th:only-of-type {\n",
       "        vertical-align: middle;\n",
       "    }\n",
       "\n",
       "    .dataframe tbody tr th {\n",
       "        vertical-align: top;\n",
       "    }\n",
       "\n",
       "    .dataframe thead th {\n",
       "        text-align: right;\n",
       "    }\n",
       "</style>\n",
       "<table border=\"1\" class=\"dataframe\">\n",
       "  <thead>\n",
       "    <tr style=\"text-align: right;\">\n",
       "      <th></th>\n",
       "      <th>child_num</th>\n",
       "      <th>income_type</th>\n",
       "      <th>edu_type</th>\n",
       "      <th>family_type</th>\n",
       "      <th>house_type</th>\n",
       "      <th>family_size</th>\n",
       "      <th>credit</th>\n",
       "    </tr>\n",
       "  </thead>\n",
       "  <tbody>\n",
       "    <tr>\n",
       "      <th>0</th>\n",
       "      <td>0</td>\n",
       "      <td>0</td>\n",
       "      <td>1</td>\n",
       "      <td>1</td>\n",
       "      <td>2</td>\n",
       "      <td>2.0</td>\n",
       "      <td>1.0</td>\n",
       "    </tr>\n",
       "    <tr>\n",
       "      <th>1</th>\n",
       "      <td>1</td>\n",
       "      <td>0</td>\n",
       "      <td>4</td>\n",
       "      <td>0</td>\n",
       "      <td>1</td>\n",
       "      <td>3.0</td>\n",
       "      <td>1.0</td>\n",
       "    </tr>\n",
       "    <tr>\n",
       "      <th>2</th>\n",
       "      <td>0</td>\n",
       "      <td>4</td>\n",
       "      <td>1</td>\n",
       "      <td>1</td>\n",
       "      <td>1</td>\n",
       "      <td>2.0</td>\n",
       "      <td>2.0</td>\n",
       "    </tr>\n",
       "    <tr>\n",
       "      <th>3</th>\n",
       "      <td>0</td>\n",
       "      <td>0</td>\n",
       "      <td>4</td>\n",
       "      <td>1</td>\n",
       "      <td>1</td>\n",
       "      <td>2.0</td>\n",
       "      <td>0.0</td>\n",
       "    </tr>\n",
       "    <tr>\n",
       "      <th>4</th>\n",
       "      <td>0</td>\n",
       "      <td>2</td>\n",
       "      <td>1</td>\n",
       "      <td>1</td>\n",
       "      <td>1</td>\n",
       "      <td>2.0</td>\n",
       "      <td>2.0</td>\n",
       "    </tr>\n",
       "    <tr>\n",
       "      <th>...</th>\n",
       "      <td>...</td>\n",
       "      <td>...</td>\n",
       "      <td>...</td>\n",
       "      <td>...</td>\n",
       "      <td>...</td>\n",
       "      <td>...</td>\n",
       "      <td>...</td>\n",
       "    </tr>\n",
       "    <tr>\n",
       "      <th>26452</th>\n",
       "      <td>2</td>\n",
       "      <td>2</td>\n",
       "      <td>4</td>\n",
       "      <td>1</td>\n",
       "      <td>1</td>\n",
       "      <td>4.0</td>\n",
       "      <td>1.0</td>\n",
       "    </tr>\n",
       "    <tr>\n",
       "      <th>26453</th>\n",
       "      <td>1</td>\n",
       "      <td>4</td>\n",
       "      <td>1</td>\n",
       "      <td>2</td>\n",
       "      <td>1</td>\n",
       "      <td>2.0</td>\n",
       "      <td>2.0</td>\n",
       "    </tr>\n",
       "    <tr>\n",
       "      <th>26454</th>\n",
       "      <td>0</td>\n",
       "      <td>4</td>\n",
       "      <td>4</td>\n",
       "      <td>0</td>\n",
       "      <td>5</td>\n",
       "      <td>2.0</td>\n",
       "      <td>2.0</td>\n",
       "    </tr>\n",
       "    <tr>\n",
       "      <th>26455</th>\n",
       "      <td>0</td>\n",
       "      <td>4</td>\n",
       "      <td>2</td>\n",
       "      <td>3</td>\n",
       "      <td>1</td>\n",
       "      <td>1.0</td>\n",
       "      <td>2.0</td>\n",
       "    </tr>\n",
       "    <tr>\n",
       "      <th>26456</th>\n",
       "      <td>0</td>\n",
       "      <td>4</td>\n",
       "      <td>4</td>\n",
       "      <td>0</td>\n",
       "      <td>1</td>\n",
       "      <td>2.0</td>\n",
       "      <td>2.0</td>\n",
       "    </tr>\n",
       "  </tbody>\n",
       "</table>\n",
       "<p>26457 rows × 7 columns</p>\n",
       "</div>"
      ],
      "text/plain": [
       "       child_num  income_type  edu_type  family_type  house_type  family_size  \\\n",
       "0              0            0         1            1           2          2.0   \n",
       "1              1            0         4            0           1          3.0   \n",
       "2              0            4         1            1           1          2.0   \n",
       "3              0            0         4            1           1          2.0   \n",
       "4              0            2         1            1           1          2.0   \n",
       "...          ...          ...       ...          ...         ...          ...   \n",
       "26452          2            2         4            1           1          4.0   \n",
       "26453          1            4         1            2           1          2.0   \n",
       "26454          0            4         4            0           5          2.0   \n",
       "26455          0            4         2            3           1          1.0   \n",
       "26456          0            4         4            0           1          2.0   \n",
       "\n",
       "       credit  \n",
       "0         1.0  \n",
       "1         1.0  \n",
       "2         2.0  \n",
       "3         0.0  \n",
       "4         2.0  \n",
       "...       ...  \n",
       "26452     1.0  \n",
       "26453     2.0  \n",
       "26454     2.0  \n",
       "26455     2.0  \n",
       "26456     2.0  \n",
       "\n",
       "[26457 rows x 7 columns]"
      ]
     },
     "execution_count": 43,
     "metadata": {},
     "output_type": "execute_result"
    }
   ],
   "source": [
    "train[group_2]"
   ]
  },
  {
   "cell_type": "code",
   "execution_count": 44,
   "metadata": {
    "colab": {
     "base_uri": "https://localhost:8080/",
     "height": 415
    },
    "executionInfo": {
     "elapsed": 4110,
     "status": "ok",
     "timestamp": 1617445515381,
     "user": {
      "displayName": "youtube dacon",
      "photoUrl": "",
      "userId": "00770885000471893693"
     },
     "user_tz": -540
    },
    "id": "hOEvvS7TJ4KG",
    "outputId": "2b510d29-0ddf-4739-8c01-ad915d56789e"
   },
   "outputs": [
    {
     "data": {
      "text/html": [
       "<div>\n",
       "<style scoped>\n",
       "    .dataframe tbody tr th:only-of-type {\n",
       "        vertical-align: middle;\n",
       "    }\n",
       "\n",
       "    .dataframe tbody tr th {\n",
       "        vertical-align: top;\n",
       "    }\n",
       "\n",
       "    .dataframe thead th {\n",
       "        text-align: right;\n",
       "    }\n",
       "</style>\n",
       "<table border=\"1\" class=\"dataframe\">\n",
       "  <thead>\n",
       "    <tr style=\"text-align: right;\">\n",
       "      <th></th>\n",
       "      <th>index</th>\n",
       "      <th>income_total</th>\n",
       "      <th>DAYS_BIRTH</th>\n",
       "      <th>DAYS_EMPLOYED</th>\n",
       "      <th>begin_month</th>\n",
       "    </tr>\n",
       "  </thead>\n",
       "  <tbody>\n",
       "    <tr>\n",
       "      <th>0</th>\n",
       "      <td>0</td>\n",
       "      <td>202500.0</td>\n",
       "      <td>-13899</td>\n",
       "      <td>-4709</td>\n",
       "      <td>-6.0</td>\n",
       "    </tr>\n",
       "    <tr>\n",
       "      <th>1</th>\n",
       "      <td>1</td>\n",
       "      <td>247500.0</td>\n",
       "      <td>-11380</td>\n",
       "      <td>-1540</td>\n",
       "      <td>-5.0</td>\n",
       "    </tr>\n",
       "    <tr>\n",
       "      <th>2</th>\n",
       "      <td>2</td>\n",
       "      <td>450000.0</td>\n",
       "      <td>-19087</td>\n",
       "      <td>-4434</td>\n",
       "      <td>-22.0</td>\n",
       "    </tr>\n",
       "    <tr>\n",
       "      <th>3</th>\n",
       "      <td>3</td>\n",
       "      <td>202500.0</td>\n",
       "      <td>-15088</td>\n",
       "      <td>-2092</td>\n",
       "      <td>-37.0</td>\n",
       "    </tr>\n",
       "    <tr>\n",
       "      <th>4</th>\n",
       "      <td>4</td>\n",
       "      <td>157500.0</td>\n",
       "      <td>-15037</td>\n",
       "      <td>-2105</td>\n",
       "      <td>-26.0</td>\n",
       "    </tr>\n",
       "    <tr>\n",
       "      <th>...</th>\n",
       "      <td>...</td>\n",
       "      <td>...</td>\n",
       "      <td>...</td>\n",
       "      <td>...</td>\n",
       "      <td>...</td>\n",
       "    </tr>\n",
       "    <tr>\n",
       "      <th>26452</th>\n",
       "      <td>26452</td>\n",
       "      <td>225000.0</td>\n",
       "      <td>-12079</td>\n",
       "      <td>-1984</td>\n",
       "      <td>-2.0</td>\n",
       "    </tr>\n",
       "    <tr>\n",
       "      <th>26453</th>\n",
       "      <td>26453</td>\n",
       "      <td>180000.0</td>\n",
       "      <td>-15291</td>\n",
       "      <td>-2475</td>\n",
       "      <td>-47.0</td>\n",
       "    </tr>\n",
       "    <tr>\n",
       "      <th>26454</th>\n",
       "      <td>26454</td>\n",
       "      <td>292500.0</td>\n",
       "      <td>-10082</td>\n",
       "      <td>-2015</td>\n",
       "      <td>-25.0</td>\n",
       "    </tr>\n",
       "    <tr>\n",
       "      <th>26455</th>\n",
       "      <td>26455</td>\n",
       "      <td>171000.0</td>\n",
       "      <td>-10145</td>\n",
       "      <td>-107</td>\n",
       "      <td>-59.0</td>\n",
       "    </tr>\n",
       "    <tr>\n",
       "      <th>26456</th>\n",
       "      <td>26456</td>\n",
       "      <td>81000.0</td>\n",
       "      <td>-19569</td>\n",
       "      <td>-1013</td>\n",
       "      <td>-9.0</td>\n",
       "    </tr>\n",
       "  </tbody>\n",
       "</table>\n",
       "<p>26457 rows × 5 columns</p>\n",
       "</div>"
      ],
      "text/plain": [
       "       index  income_total  DAYS_BIRTH  DAYS_EMPLOYED  begin_month\n",
       "0          0      202500.0      -13899          -4709         -6.0\n",
       "1          1      247500.0      -11380          -1540         -5.0\n",
       "2          2      450000.0      -19087          -4434        -22.0\n",
       "3          3      202500.0      -15088          -2092        -37.0\n",
       "4          4      157500.0      -15037          -2105        -26.0\n",
       "...      ...           ...         ...            ...          ...\n",
       "26452  26452      225000.0      -12079          -1984         -2.0\n",
       "26453  26453      180000.0      -15291          -2475        -47.0\n",
       "26454  26454      292500.0      -10082          -2015        -25.0\n",
       "26455  26455      171000.0      -10145           -107        -59.0\n",
       "26456  26456       81000.0      -19569          -1013         -9.0\n",
       "\n",
       "[26457 rows x 5 columns]"
      ]
     },
     "execution_count": 44,
     "metadata": {},
     "output_type": "execute_result"
    }
   ],
   "source": [
    "train[group_3]"
   ]
  },
  {
   "cell_type": "code",
   "execution_count": 45,
   "metadata": {
    "colab": {
     "base_uri": "https://localhost:8080/",
     "height": 415
    },
    "executionInfo": {
     "elapsed": 4095,
     "status": "ok",
     "timestamp": 1617445515383,
     "user": {
      "displayName": "youtube dacon",
      "photoUrl": "",
      "userId": "00770885000471893693"
     },
     "user_tz": -540
    },
    "id": "MzqAGWsDKTIJ",
    "outputId": "f2b7154f-e8e4-4ee1-bca7-20a2042fb552"
   },
   "outputs": [
    {
     "data": {
      "text/html": [
       "<div>\n",
       "<style scoped>\n",
       "    .dataframe tbody tr th:only-of-type {\n",
       "        vertical-align: middle;\n",
       "    }\n",
       "\n",
       "    .dataframe tbody tr th {\n",
       "        vertical-align: top;\n",
       "    }\n",
       "\n",
       "    .dataframe thead th {\n",
       "        text-align: right;\n",
       "    }\n",
       "</style>\n",
       "<table border=\"1\" class=\"dataframe\">\n",
       "  <thead>\n",
       "    <tr style=\"text-align: right;\">\n",
       "      <th></th>\n",
       "      <th>index</th>\n",
       "      <th>income_total</th>\n",
       "      <th>DAYS_BIRTH</th>\n",
       "      <th>DAYS_EMPLOYED</th>\n",
       "      <th>begin_month</th>\n",
       "    </tr>\n",
       "  </thead>\n",
       "  <tbody>\n",
       "    <tr>\n",
       "      <th>0</th>\n",
       "      <td>0</td>\n",
       "      <td>202500.0</td>\n",
       "      <td>-13899</td>\n",
       "      <td>-4709</td>\n",
       "      <td>-6.0</td>\n",
       "    </tr>\n",
       "    <tr>\n",
       "      <th>1</th>\n",
       "      <td>1</td>\n",
       "      <td>247500.0</td>\n",
       "      <td>-11380</td>\n",
       "      <td>-1540</td>\n",
       "      <td>-5.0</td>\n",
       "    </tr>\n",
       "    <tr>\n",
       "      <th>2</th>\n",
       "      <td>2</td>\n",
       "      <td>450000.0</td>\n",
       "      <td>-19087</td>\n",
       "      <td>-4434</td>\n",
       "      <td>-22.0</td>\n",
       "    </tr>\n",
       "    <tr>\n",
       "      <th>3</th>\n",
       "      <td>3</td>\n",
       "      <td>202500.0</td>\n",
       "      <td>-15088</td>\n",
       "      <td>-2092</td>\n",
       "      <td>-37.0</td>\n",
       "    </tr>\n",
       "    <tr>\n",
       "      <th>4</th>\n",
       "      <td>4</td>\n",
       "      <td>157500.0</td>\n",
       "      <td>-15037</td>\n",
       "      <td>-2105</td>\n",
       "      <td>-26.0</td>\n",
       "    </tr>\n",
       "    <tr>\n",
       "      <th>...</th>\n",
       "      <td>...</td>\n",
       "      <td>...</td>\n",
       "      <td>...</td>\n",
       "      <td>...</td>\n",
       "      <td>...</td>\n",
       "    </tr>\n",
       "    <tr>\n",
       "      <th>26452</th>\n",
       "      <td>26452</td>\n",
       "      <td>225000.0</td>\n",
       "      <td>-12079</td>\n",
       "      <td>-1984</td>\n",
       "      <td>-2.0</td>\n",
       "    </tr>\n",
       "    <tr>\n",
       "      <th>26453</th>\n",
       "      <td>26453</td>\n",
       "      <td>180000.0</td>\n",
       "      <td>-15291</td>\n",
       "      <td>-2475</td>\n",
       "      <td>-47.0</td>\n",
       "    </tr>\n",
       "    <tr>\n",
       "      <th>26454</th>\n",
       "      <td>26454</td>\n",
       "      <td>292500.0</td>\n",
       "      <td>-10082</td>\n",
       "      <td>-2015</td>\n",
       "      <td>-25.0</td>\n",
       "    </tr>\n",
       "    <tr>\n",
       "      <th>26455</th>\n",
       "      <td>26455</td>\n",
       "      <td>171000.0</td>\n",
       "      <td>-10145</td>\n",
       "      <td>-107</td>\n",
       "      <td>-59.0</td>\n",
       "    </tr>\n",
       "    <tr>\n",
       "      <th>26456</th>\n",
       "      <td>26456</td>\n",
       "      <td>81000.0</td>\n",
       "      <td>-19569</td>\n",
       "      <td>-1013</td>\n",
       "      <td>-9.0</td>\n",
       "    </tr>\n",
       "  </tbody>\n",
       "</table>\n",
       "<p>26457 rows × 5 columns</p>\n",
       "</div>"
      ],
      "text/plain": [
       "       index  income_total  DAYS_BIRTH  DAYS_EMPLOYED  begin_month\n",
       "0          0      202500.0      -13899          -4709         -6.0\n",
       "1          1      247500.0      -11380          -1540         -5.0\n",
       "2          2      450000.0      -19087          -4434        -22.0\n",
       "3          3      202500.0      -15088          -2092        -37.0\n",
       "4          4      157500.0      -15037          -2105        -26.0\n",
       "...      ...           ...         ...            ...          ...\n",
       "26452  26452      225000.0      -12079          -1984         -2.0\n",
       "26453  26453      180000.0      -15291          -2475        -47.0\n",
       "26454  26454      292500.0      -10082          -2015        -25.0\n",
       "26455  26455      171000.0      -10145           -107        -59.0\n",
       "26456  26456       81000.0      -19569          -1013         -9.0\n",
       "\n",
       "[26457 rows x 5 columns]"
      ]
     },
     "execution_count": 45,
     "metadata": {},
     "output_type": "execute_result"
    }
   ],
   "source": [
    "train[group_3]"
   ]
  },
  {
   "cell_type": "code",
   "execution_count": 46,
   "metadata": {
    "colab": {
     "base_uri": "https://localhost:8080/"
    },
    "executionInfo": {
     "elapsed": 4078,
     "status": "ok",
     "timestamp": 1617445515384,
     "user": {
      "displayName": "youtube dacon",
      "photoUrl": "",
      "userId": "00770885000471893693"
     },
     "user_tz": -540
    },
    "id": "6WBEgA8PKeap",
    "outputId": "0ebd20ee-b729-40fd-d540-e92a136546f7"
   },
   "outputs": [
    {
     "data": {
      "text/plain": [
       "27000.0"
      ]
     },
     "execution_count": 46,
     "metadata": {},
     "output_type": "execute_result"
    }
   ],
   "source": [
    "train['income_total'].min()"
   ]
  },
  {
   "cell_type": "code",
   "execution_count": 47,
   "metadata": {
    "colab": {
     "base_uri": "https://localhost:8080/"
    },
    "executionInfo": {
     "elapsed": 4060,
     "status": "ok",
     "timestamp": 1617445515385,
     "user": {
      "displayName": "youtube dacon",
      "photoUrl": "",
      "userId": "00770885000471893693"
     },
     "user_tz": -540
    },
    "id": "oKdQyMonKlIA",
    "outputId": "8ca68fd6-a96b-4934-b05a-3b810ff5ba0a"
   },
   "outputs": [
    {
     "data": {
      "text/plain": [
       "1575000.0"
      ]
     },
     "execution_count": 47,
     "metadata": {},
     "output_type": "execute_result"
    }
   ],
   "source": [
    "train['income_total'].max()"
   ]
  },
  {
   "cell_type": "code",
   "execution_count": 48,
   "metadata": {
    "colab": {
     "base_uri": "https://localhost:8080/"
    },
    "executionInfo": {
     "elapsed": 4045,
     "status": "ok",
     "timestamp": 1617445515385,
     "user": {
      "displayName": "youtube dacon",
      "photoUrl": "",
      "userId": "00770885000471893693"
     },
     "user_tz": -540
    },
    "id": "7AYoKtunKpH-",
    "outputId": "5b0f1f9d-a626-4600-adad-3b16420d9afa"
   },
   "outputs": [
    {
     "data": {
      "text/plain": [
       "249"
      ]
     },
     "execution_count": 48,
     "metadata": {},
     "output_type": "execute_result"
    }
   ],
   "source": [
    "len(train['income_total'].unique())"
   ]
  },
  {
   "cell_type": "code",
   "execution_count": 49,
   "metadata": {
    "executionInfo": {
     "elapsed": 4035,
     "status": "ok",
     "timestamp": 1617445515387,
     "user": {
      "displayName": "youtube dacon",
      "photoUrl": "",
      "userId": "00770885000471893693"
     },
     "user_tz": -540
    },
    "id": "NBbwIu6xKtVD"
   },
   "outputs": [],
   "source": [
    "import numpy as np"
   ]
  },
  {
   "cell_type": "code",
   "execution_count": 50,
   "metadata": {
    "executionInfo": {
     "elapsed": 4028,
     "status": "ok",
     "timestamp": 1617445515388,
     "user": {
      "displayName": "youtube dacon",
      "photoUrl": "",
      "userId": "00770885000471893693"
     },
     "user_tz": -540
    },
    "id": "PRDUAnAlK8GU"
   },
   "outputs": [],
   "source": [
    "counts, bin_dividers = np.histogram(train['income_total'], bins = 7)"
   ]
  },
  {
   "cell_type": "code",
   "execution_count": 51,
   "metadata": {
    "colab": {
     "base_uri": "https://localhost:8080/"
    },
    "executionInfo": {
     "elapsed": 4017,
     "status": "ok",
     "timestamp": 1617445515388,
     "user": {
      "displayName": "youtube dacon",
      "photoUrl": "",
      "userId": "00770885000471893693"
     },
     "user_tz": -540
    },
    "id": "AqVv-MwQLPUk",
    "outputId": "2c560879-a0db-4f40-a12d-4ce651a1a01e"
   },
   "outputs": [
    {
     "data": {
      "text/plain": [
       "0        202500.0\n",
       "1        247500.0\n",
       "2        450000.0\n",
       "3        202500.0\n",
       "4        157500.0\n",
       "           ...   \n",
       "26452    225000.0\n",
       "26453    180000.0\n",
       "26454    292500.0\n",
       "26455    171000.0\n",
       "26456     81000.0\n",
       "Name: income_total, Length: 26457, dtype: float64"
      ]
     },
     "execution_count": 51,
     "metadata": {},
     "output_type": "execute_result"
    }
   ],
   "source": [
    "train['income_total']"
   ]
  },
  {
   "cell_type": "code",
   "execution_count": 52,
   "metadata": {
    "executionInfo": {
     "elapsed": 4008,
     "status": "ok",
     "timestamp": 1617445515390,
     "user": {
      "displayName": "youtube dacon",
      "photoUrl": "",
      "userId": "00770885000471893693"
     },
     "user_tz": -540
    },
    "id": "TJgodj0HLAxV"
   },
   "outputs": [],
   "source": [
    "train['income_total'] = pd.factorize(pd.cut(train['income_total'],\n",
    "                                        bins = bin_dividers,\n",
    "                                        include_lowest=True,\n",
    "                                        labels = [i for i in range(7)]))[0]\n",
    "                                        \n",
    "test['income_total'] = pd.factorize(pd.cut(test['income_total'],\n",
    "                                     bins = bin_dividers,\n",
    "                                     include_lowest=True,\n",
    "                                      labels = [i for i in range(7)]))[0]"
   ]
  },
  {
   "cell_type": "code",
   "execution_count": 53,
   "metadata": {
    "colab": {
     "base_uri": "https://localhost:8080/"
    },
    "executionInfo": {
     "elapsed": 3998,
     "status": "ok",
     "timestamp": 1617445515390,
     "user": {
      "displayName": "youtube dacon",
      "photoUrl": "",
      "userId": "00770885000471893693"
     },
     "user_tz": -540
    },
    "id": "ZvoDY-p8LNUl",
    "outputId": "33c4952a-251a-432f-c4bd-359445b9992b"
   },
   "outputs": [
    {
     "data": {
      "text/plain": [
       "0        0\n",
       "1        0\n",
       "2        1\n",
       "3        0\n",
       "4        0\n",
       "        ..\n",
       "26452    0\n",
       "26453    0\n",
       "26454    1\n",
       "26455    0\n",
       "26456    0\n",
       "Name: income_total, Length: 26457, dtype: int64"
      ]
     },
     "execution_count": 53,
     "metadata": {},
     "output_type": "execute_result"
    }
   ],
   "source": [
    "train['income_total']"
   ]
  },
  {
   "cell_type": "code",
   "execution_count": 54,
   "metadata": {
    "colab": {
     "base_uri": "https://localhost:8080/"
    },
    "executionInfo": {
     "elapsed": 3986,
     "status": "ok",
     "timestamp": 1617445515391,
     "user": {
      "displayName": "youtube dacon",
      "photoUrl": "",
      "userId": "00770885000471893693"
     },
     "user_tz": -540
    },
    "id": "CyeF9Mh7MM2F",
    "outputId": "ea97fbd8-ac6d-4619-d4d4-5493c7551e44"
   },
   "outputs": [
    {
     "data": {
      "text/plain": [
       "0       -13899\n",
       "1       -11380\n",
       "2       -19087\n",
       "3       -15088\n",
       "4       -15037\n",
       "         ...  \n",
       "26452   -12079\n",
       "26453   -15291\n",
       "26454   -10082\n",
       "26455   -10145\n",
       "26456   -19569\n",
       "Name: DAYS_BIRTH, Length: 26457, dtype: int64"
      ]
     },
     "execution_count": 54,
     "metadata": {},
     "output_type": "execute_result"
    }
   ],
   "source": [
    "train['DAYS_BIRTH']"
   ]
  },
  {
   "cell_type": "code",
   "execution_count": 55,
   "metadata": {},
   "outputs": [
    {
     "data": {
      "text/plain": [
       "(26457, 19)"
      ]
     },
     "execution_count": 55,
     "metadata": {},
     "output_type": "execute_result"
    }
   ],
   "source": [
    "train.shape"
   ]
  },
  {
   "cell_type": "code",
   "execution_count": 56,
   "metadata": {
    "executionInfo": {
     "elapsed": 3975,
     "status": "ok",
     "timestamp": 1617445515392,
     "user": {
      "displayName": "youtube dacon",
      "photoUrl": "",
      "userId": "00770885000471893693"
     },
     "user_tz": -540
    },
    "id": "bD4d7_uYL9E3"
   },
   "outputs": [],
   "source": [
    "def make_bin(variable, n):\n",
    "    train[variable]=-train[variable]\n",
    "    test[variable]=-test[variable]\n",
    "    count, bin_dividers =np.histogram(train[variable], bins=n) #train의 구간화를 적용\n",
    "    bin_names=[str(i) for i in range(n)]\n",
    "    train[variable]=pd.cut(x=train[variable], bins=bin_dividers, labels=bin_names, include_lowest=True)\n",
    "    test[variable]=pd.cut(x=test[variable], bins=bin_dividers, labels=bin_names, include_lowest=True)\n",
    "    test[variable].fillna(str(0), inplace=True) #test에는 없는 것을 임의의 값으로 채움\n",
    "    ##########################################################\n",
    "    train[variable]=label_encoder.fit_transform(train[variable])\n",
    "    test[variable]=label_encoder.transform(test[variable])"
   ]
  },
  {
   "cell_type": "code",
   "execution_count": 57,
   "metadata": {
    "executionInfo": {
     "elapsed": 3954,
     "status": "ok",
     "timestamp": 1617445515394,
     "user": {
      "displayName": "youtube dacon",
      "photoUrl": "",
      "userId": "00770885000471893693"
     },
     "user_tz": -540
    },
    "id": "2v4xANnPM-d8"
   },
   "outputs": [],
   "source": [
    "make_bin('DAYS_BIRTH', n=10)\n",
    "make_bin('DAYS_EMPLOYED', n=6)\n",
    "make_bin('begin_month', n=4)"
   ]
  },
  {
   "cell_type": "code",
   "execution_count": 58,
   "metadata": {
    "colab": {
     "base_uri": "https://localhost:8080/",
     "height": 415
    },
    "executionInfo": {
     "elapsed": 3944,
     "status": "ok",
     "timestamp": 1617445515394,
     "user": {
      "displayName": "youtube dacon",
      "photoUrl": "",
      "userId": "00770885000471893693"
     },
     "user_tz": -540
    },
    "id": "SyoVjrC_NZqZ",
    "outputId": "d671fa59-641a-409e-9a68-f8c162dc63a2"
   },
   "outputs": [
    {
     "data": {
      "text/html": [
       "<div>\n",
       "<style scoped>\n",
       "    .dataframe tbody tr th:only-of-type {\n",
       "        vertical-align: middle;\n",
       "    }\n",
       "\n",
       "    .dataframe tbody tr th {\n",
       "        vertical-align: top;\n",
       "    }\n",
       "\n",
       "    .dataframe thead th {\n",
       "        text-align: right;\n",
       "    }\n",
       "</style>\n",
       "<table border=\"1\" class=\"dataframe\">\n",
       "  <thead>\n",
       "    <tr style=\"text-align: right;\">\n",
       "      <th></th>\n",
       "      <th>index</th>\n",
       "      <th>income_total</th>\n",
       "      <th>DAYS_BIRTH</th>\n",
       "      <th>DAYS_EMPLOYED</th>\n",
       "      <th>begin_month</th>\n",
       "    </tr>\n",
       "  </thead>\n",
       "  <tbody>\n",
       "    <tr>\n",
       "      <th>0</th>\n",
       "      <td>0</td>\n",
       "      <td>0</td>\n",
       "      <td>3</td>\n",
       "      <td>1</td>\n",
       "      <td>0</td>\n",
       "    </tr>\n",
       "    <tr>\n",
       "      <th>1</th>\n",
       "      <td>1</td>\n",
       "      <td>0</td>\n",
       "      <td>2</td>\n",
       "      <td>1</td>\n",
       "      <td>0</td>\n",
       "    </tr>\n",
       "    <tr>\n",
       "      <th>2</th>\n",
       "      <td>2</td>\n",
       "      <td>1</td>\n",
       "      <td>6</td>\n",
       "      <td>1</td>\n",
       "      <td>1</td>\n",
       "    </tr>\n",
       "    <tr>\n",
       "      <th>3</th>\n",
       "      <td>3</td>\n",
       "      <td>0</td>\n",
       "      <td>4</td>\n",
       "      <td>1</td>\n",
       "      <td>2</td>\n",
       "    </tr>\n",
       "    <tr>\n",
       "      <th>4</th>\n",
       "      <td>4</td>\n",
       "      <td>0</td>\n",
       "      <td>4</td>\n",
       "      <td>1</td>\n",
       "      <td>1</td>\n",
       "    </tr>\n",
       "    <tr>\n",
       "      <th>...</th>\n",
       "      <td>...</td>\n",
       "      <td>...</td>\n",
       "      <td>...</td>\n",
       "      <td>...</td>\n",
       "      <td>...</td>\n",
       "    </tr>\n",
       "    <tr>\n",
       "      <th>26452</th>\n",
       "      <td>26452</td>\n",
       "      <td>0</td>\n",
       "      <td>2</td>\n",
       "      <td>1</td>\n",
       "      <td>0</td>\n",
       "    </tr>\n",
       "    <tr>\n",
       "      <th>26453</th>\n",
       "      <td>26453</td>\n",
       "      <td>0</td>\n",
       "      <td>4</td>\n",
       "      <td>1</td>\n",
       "      <td>3</td>\n",
       "    </tr>\n",
       "    <tr>\n",
       "      <th>26454</th>\n",
       "      <td>26454</td>\n",
       "      <td>1</td>\n",
       "      <td>1</td>\n",
       "      <td>1</td>\n",
       "      <td>1</td>\n",
       "    </tr>\n",
       "    <tr>\n",
       "      <th>26455</th>\n",
       "      <td>26455</td>\n",
       "      <td>0</td>\n",
       "      <td>1</td>\n",
       "      <td>1</td>\n",
       "      <td>3</td>\n",
       "    </tr>\n",
       "    <tr>\n",
       "      <th>26456</th>\n",
       "      <td>26456</td>\n",
       "      <td>0</td>\n",
       "      <td>6</td>\n",
       "      <td>1</td>\n",
       "      <td>0</td>\n",
       "    </tr>\n",
       "  </tbody>\n",
       "</table>\n",
       "<p>26457 rows × 5 columns</p>\n",
       "</div>"
      ],
      "text/plain": [
       "       index  income_total  DAYS_BIRTH  DAYS_EMPLOYED  begin_month\n",
       "0          0             0           3              1            0\n",
       "1          1             0           2              1            0\n",
       "2          2             1           6              1            1\n",
       "3          3             0           4              1            2\n",
       "4          4             0           4              1            1\n",
       "...      ...           ...         ...            ...          ...\n",
       "26452  26452             0           2              1            0\n",
       "26453  26453             0           4              1            3\n",
       "26454  26454             1           1              1            1\n",
       "26455  26455             0           1              1            3\n",
       "26456  26456             0           6              1            0\n",
       "\n",
       "[26457 rows x 5 columns]"
      ]
     },
     "execution_count": 58,
     "metadata": {},
     "output_type": "execute_result"
    }
   ],
   "source": [
    "train[group_3]"
   ]
  },
  {
   "cell_type": "code",
   "execution_count": 59,
   "metadata": {
    "colab": {
     "base_uri": "https://localhost:8080/"
    },
    "executionInfo": {
     "elapsed": 4514,
     "status": "ok",
     "timestamp": 1617445515981,
     "user": {
      "displayName": "youtube dacon",
      "photoUrl": "",
      "userId": "00770885000471893693"
     },
     "user_tz": -540
    },
    "id": "rkylHOigU2Zy",
    "outputId": "92347042-c03d-4a26-9725-d9feab0410bb"
   },
   "outputs": [
    {
     "data": {
      "text/plain": [
       "(26457, 19)"
      ]
     },
     "execution_count": 59,
     "metadata": {},
     "output_type": "execute_result"
    }
   ],
   "source": [
    "train.shape"
   ]
  },
  {
   "cell_type": "code",
   "execution_count": 60,
   "metadata": {
    "colab": {
     "base_uri": "https://localhost:8080/"
    },
    "executionInfo": {
     "elapsed": 4499,
     "status": "ok",
     "timestamp": 1617445515982,
     "user": {
      "displayName": "youtube dacon",
      "photoUrl": "",
      "userId": "00770885000471893693"
     },
     "user_tz": -540
    },
    "id": "aaxKXV-9U4Ej",
    "outputId": "85f9943d-9ff5-4506-bab4-0f110b582a34"
   },
   "outputs": [
    {
     "data": {
      "text/plain": [
       "(10000, 18)"
      ]
     },
     "execution_count": 60,
     "metadata": {},
     "output_type": "execute_result"
    }
   ],
   "source": [
    "test.shape"
   ]
  },
  {
   "cell_type": "code",
   "execution_count": 61,
   "metadata": {},
   "outputs": [],
   "source": [
    "#test = data[-10000:]"
   ]
  },
  {
   "cell_type": "code",
   "execution_count": 62,
   "metadata": {
    "executionInfo": {
     "elapsed": 4475,
     "status": "ok",
     "timestamp": 1617445515983,
     "user": {
      "displayName": "youtube dacon",
      "photoUrl": "",
      "userId": "00770885000471893693"
     },
     "user_tz": -540
    },
    "id": "wY59_omkT3ij"
   },
   "outputs": [],
   "source": [
    "#train = data[:-10000]"
   ]
  },
  {
   "cell_type": "code",
   "execution_count": 63,
   "metadata": {
    "executionInfo": {
     "elapsed": 4469,
     "status": "ok",
     "timestamp": 1617445515983,
     "user": {
      "displayName": "youtube dacon",
      "photoUrl": "",
      "userId": "00770885000471893693"
     },
     "user_tz": -540
    },
    "id": "CHgkjhKHU0jD"
   },
   "outputs": [],
   "source": [
    "train_x = train.drop(\"credit\", axis = 1)"
   ]
  },
  {
   "cell_type": "code",
   "execution_count": 64,
   "metadata": {
    "executionInfo": {
     "elapsed": 4462,
     "status": "ok",
     "timestamp": 1617445515984,
     "user": {
      "displayName": "youtube dacon",
      "photoUrl": "",
      "userId": "00770885000471893693"
     },
     "user_tz": -540
    },
    "id": "BNyoVBqFVGSa"
   },
   "outputs": [],
   "source": [
    "train_y = train['credit']"
   ]
  },
  {
   "cell_type": "code",
   "execution_count": 65,
   "metadata": {
    "executionInfo": {
     "elapsed": 4454,
     "status": "ok",
     "timestamp": 1617445515984,
     "user": {
      "displayName": "youtube dacon",
      "photoUrl": "",
      "userId": "00770885000471893693"
     },
     "user_tz": -540
    },
    "id": "VTLo1PBjVb1h"
   },
   "outputs": [],
   "source": [
    "#test_x = test.drop(\"credit\", axis = 1)\n",
    "test_x = test"
   ]
  },
  {
   "cell_type": "code",
   "execution_count": 66,
   "metadata": {
    "colab": {
     "base_uri": "https://localhost:8080/"
    },
    "executionInfo": {
     "elapsed": 4436,
     "status": "ok",
     "timestamp": 1617445515985,
     "user": {
      "displayName": "youtube dacon",
      "photoUrl": "",
      "userId": "00770885000471893693"
     },
     "user_tz": -540
    },
    "id": "w308hDL5VfaS",
    "outputId": "1a8c0606-baa1-415a-d60e-30bfa1aba487"
   },
   "outputs": [
    {
     "data": {
      "text/plain": [
       "(26457, 18)"
      ]
     },
     "execution_count": 66,
     "metadata": {},
     "output_type": "execute_result"
    }
   ],
   "source": [
    "train_x.shape"
   ]
  },
  {
   "cell_type": "code",
   "execution_count": 67,
   "metadata": {
    "colab": {
     "base_uri": "https://localhost:8080/"
    },
    "executionInfo": {
     "elapsed": 4418,
     "status": "ok",
     "timestamp": 1617445515985,
     "user": {
      "displayName": "youtube dacon",
      "photoUrl": "",
      "userId": "00770885000471893693"
     },
     "user_tz": -540
    },
    "id": "Csc4POhBVhot",
    "outputId": "0d2ed2a8-ba96-4e18-871d-499c12ca3979"
   },
   "outputs": [
    {
     "data": {
      "text/plain": [
       "(26457,)"
      ]
     },
     "execution_count": 67,
     "metadata": {},
     "output_type": "execute_result"
    }
   ],
   "source": [
    "train_y.shape"
   ]
  },
  {
   "cell_type": "code",
   "execution_count": 68,
   "metadata": {
    "colab": {
     "base_uri": "https://localhost:8080/"
    },
    "executionInfo": {
     "elapsed": 4400,
     "status": "ok",
     "timestamp": 1617445515986,
     "user": {
      "displayName": "youtube dacon",
      "photoUrl": "",
      "userId": "00770885000471893693"
     },
     "user_tz": -540
    },
    "id": "_DxbO2PcVlcv",
    "outputId": "49c43ef7-9824-43d9-9773-44c95ec1a85f"
   },
   "outputs": [
    {
     "data": {
      "text/plain": [
       "(10000, 18)"
      ]
     },
     "execution_count": 68,
     "metadata": {},
     "output_type": "execute_result"
    }
   ],
   "source": [
    "test_x.shape"
   ]
  },
  {
   "cell_type": "code",
   "execution_count": 69,
   "metadata": {
    "executionInfo": {
     "elapsed": 4383,
     "status": "ok",
     "timestamp": 1617445515986,
     "user": {
      "displayName": "youtube dacon",
      "photoUrl": "",
      "userId": "00770885000471893693"
     },
     "user_tz": -540
    },
    "id": "cyE9IY3Cm1oP"
   },
   "outputs": [],
   "source": [
    "from sklearn.ensemble import RandomForestClassifier"
   ]
  },
  {
   "cell_type": "code",
   "execution_count": 70,
   "metadata": {
    "executionInfo": {
     "elapsed": 4375,
     "status": "ok",
     "timestamp": 1617445515987,
     "user": {
      "displayName": "youtube dacon",
      "photoUrl": "",
      "userId": "00770885000471893693"
     },
     "user_tz": -540
    },
    "id": "N9pKGsN9nB3R"
   },
   "outputs": [],
   "source": [
    "clf = RandomForestClassifier()"
   ]
  },
  {
   "cell_type": "code",
   "execution_count": 71,
   "metadata": {
    "colab": {
     "base_uri": "https://localhost:8080/"
    },
    "executionInfo": {
     "elapsed": 7852,
     "status": "ok",
     "timestamp": 1617445519477,
     "user": {
      "displayName": "youtube dacon",
      "photoUrl": "",
      "userId": "00770885000471893693"
     },
     "user_tz": -540
    },
    "id": "2VGFrHjnnByK",
    "outputId": "d55fd4dc-ee8a-435d-d384-9c986baa9d9e"
   },
   "outputs": [
    {
     "data": {
      "text/plain": [
       "RandomForestClassifier()"
      ]
     },
     "execution_count": 71,
     "metadata": {},
     "output_type": "execute_result"
    }
   ],
   "source": [
    "clf.fit(train_x, train_y)"
   ]
  },
  {
   "cell_type": "code",
   "execution_count": 72,
   "metadata": {
    "executionInfo": {
     "elapsed": 8793,
     "status": "ok",
     "timestamp": 1617445520432,
     "user": {
      "displayName": "youtube dacon",
      "photoUrl": "",
      "userId": "00770885000471893693"
     },
     "user_tz": -540
    },
    "id": "gtp6Bk-3nBwP"
   },
   "outputs": [],
   "source": [
    "train_proba = clf.predict_proba(train_x)"
   ]
  },
  {
   "cell_type": "code",
   "execution_count": 73,
   "metadata": {
    "colab": {
     "base_uri": "https://localhost:8080/"
    },
    "executionInfo": {
     "elapsed": 8781,
     "status": "ok",
     "timestamp": 1617445520433,
     "user": {
      "displayName": "youtube dacon",
      "photoUrl": "",
      "userId": "00770885000471893693"
     },
     "user_tz": -540
    },
    "id": "hFVARmhpnBua",
    "outputId": "708119a3-c4e3-4415-b609-7530a24a1f60"
   },
   "outputs": [
    {
     "data": {
      "text/plain": [
       "array([[0.04, 0.72, 0.24],\n",
       "       [0.09, 0.69, 0.22],\n",
       "       [0.07, 0.07, 0.86],\n",
       "       [0.67, 0.07, 0.26],\n",
       "       [0.12, 0.06, 0.82],\n",
       "       [0.07, 0.76, 0.17],\n",
       "       [0.08, 0.03, 0.89],\n",
       "       [0.73, 0.09, 0.18],\n",
       "       [0.05, 0.  , 0.95],\n",
       "       [0.15, 0.04, 0.81]])"
      ]
     },
     "execution_count": 73,
     "metadata": {},
     "output_type": "execute_result"
    }
   ],
   "source": [
    "train_proba[:10]"
   ]
  },
  {
   "cell_type": "code",
   "execution_count": 74,
   "metadata": {
    "colab": {
     "base_uri": "https://localhost:8080/"
    },
    "executionInfo": {
     "elapsed": 8762,
     "status": "ok",
     "timestamp": 1617445520435,
     "user": {
      "displayName": "youtube dacon",
      "photoUrl": "",
      "userId": "00770885000471893693"
     },
     "user_tz": -540
    },
    "id": "iqYpGf97nBsC",
    "outputId": "77a4784e-0815-40cc-dabd-4498909cf8e3"
   },
   "outputs": [
    {
     "data": {
      "text/plain": [
       "array([1, 1, 2, 0, 2, 1, 2, 0, 2, 2])"
      ]
     },
     "execution_count": 74,
     "metadata": {},
     "output_type": "execute_result"
    }
   ],
   "source": [
    "np.argmax(train_proba, axis = 1)[:10]"
   ]
  },
  {
   "cell_type": "code",
   "execution_count": null,
   "metadata": {
    "executionInfo": {
     "elapsed": 8751,
     "status": "ok",
     "timestamp": 1617445520436,
     "user": {
      "displayName": "youtube dacon",
      "photoUrl": "",
      "userId": "00770885000471893693"
     },
     "user_tz": -540
    },
    "id": "jlS4FtJ-nBpw"
   },
   "outputs": [],
   "source": []
  },
  {
   "cell_type": "code",
   "execution_count": 75,
   "metadata": {
    "executionInfo": {
     "elapsed": 8745,
     "status": "ok",
     "timestamp": 1617445520436,
     "user": {
      "displayName": "youtube dacon",
      "photoUrl": "",
      "userId": "00770885000471893693"
     },
     "user_tz": -540
    },
    "id": "L11P8djboDem"
   },
   "outputs": [],
   "source": [
    "sample_submission.iloc[:,1:] =  clf.predict_proba(test_x)"
   ]
  },
  {
   "cell_type": "code",
   "execution_count": 76,
   "metadata": {
    "colab": {
     "base_uri": "https://localhost:8080/",
     "height": 415
    },
    "executionInfo": {
     "elapsed": 8735,
     "status": "ok",
     "timestamp": 1617445520437,
     "user": {
      "displayName": "youtube dacon",
      "photoUrl": "",
      "userId": "00770885000471893693"
     },
     "user_tz": -540
    },
    "id": "T-j4PhWBoGqj",
    "outputId": "2d413d1f-a177-4022-a1a0-7d3764600eda"
   },
   "outputs": [
    {
     "data": {
      "text/html": [
       "<div>\n",
       "<style scoped>\n",
       "    .dataframe tbody tr th:only-of-type {\n",
       "        vertical-align: middle;\n",
       "    }\n",
       "\n",
       "    .dataframe tbody tr th {\n",
       "        vertical-align: top;\n",
       "    }\n",
       "\n",
       "    .dataframe thead th {\n",
       "        text-align: right;\n",
       "    }\n",
       "</style>\n",
       "<table border=\"1\" class=\"dataframe\">\n",
       "  <thead>\n",
       "    <tr style=\"text-align: right;\">\n",
       "      <th></th>\n",
       "      <th>index</th>\n",
       "      <th>0</th>\n",
       "      <th>1</th>\n",
       "      <th>2</th>\n",
       "    </tr>\n",
       "  </thead>\n",
       "  <tbody>\n",
       "    <tr>\n",
       "      <th>0</th>\n",
       "      <td>26457</td>\n",
       "      <td>0.13</td>\n",
       "      <td>0.18</td>\n",
       "      <td>0.69</td>\n",
       "    </tr>\n",
       "    <tr>\n",
       "      <th>1</th>\n",
       "      <td>26458</td>\n",
       "      <td>0.11</td>\n",
       "      <td>0.26</td>\n",
       "      <td>0.63</td>\n",
       "    </tr>\n",
       "    <tr>\n",
       "      <th>2</th>\n",
       "      <td>26459</td>\n",
       "      <td>0.00</td>\n",
       "      <td>0.24</td>\n",
       "      <td>0.76</td>\n",
       "    </tr>\n",
       "    <tr>\n",
       "      <th>3</th>\n",
       "      <td>26460</td>\n",
       "      <td>0.16</td>\n",
       "      <td>0.10</td>\n",
       "      <td>0.74</td>\n",
       "    </tr>\n",
       "    <tr>\n",
       "      <th>4</th>\n",
       "      <td>26461</td>\n",
       "      <td>0.13</td>\n",
       "      <td>0.45</td>\n",
       "      <td>0.42</td>\n",
       "    </tr>\n",
       "    <tr>\n",
       "      <th>...</th>\n",
       "      <td>...</td>\n",
       "      <td>...</td>\n",
       "      <td>...</td>\n",
       "      <td>...</td>\n",
       "    </tr>\n",
       "    <tr>\n",
       "      <th>9995</th>\n",
       "      <td>36452</td>\n",
       "      <td>0.17</td>\n",
       "      <td>0.27</td>\n",
       "      <td>0.56</td>\n",
       "    </tr>\n",
       "    <tr>\n",
       "      <th>9996</th>\n",
       "      <td>36453</td>\n",
       "      <td>0.12</td>\n",
       "      <td>0.33</td>\n",
       "      <td>0.55</td>\n",
       "    </tr>\n",
       "    <tr>\n",
       "      <th>9997</th>\n",
       "      <td>36454</td>\n",
       "      <td>0.12</td>\n",
       "      <td>0.12</td>\n",
       "      <td>0.76</td>\n",
       "    </tr>\n",
       "    <tr>\n",
       "      <th>9998</th>\n",
       "      <td>36455</td>\n",
       "      <td>0.09</td>\n",
       "      <td>0.35</td>\n",
       "      <td>0.56</td>\n",
       "    </tr>\n",
       "    <tr>\n",
       "      <th>9999</th>\n",
       "      <td>36456</td>\n",
       "      <td>0.08</td>\n",
       "      <td>0.40</td>\n",
       "      <td>0.52</td>\n",
       "    </tr>\n",
       "  </tbody>\n",
       "</table>\n",
       "<p>10000 rows × 4 columns</p>\n",
       "</div>"
      ],
      "text/plain": [
       "      index     0     1     2\n",
       "0     26457  0.13  0.18  0.69\n",
       "1     26458  0.11  0.26  0.63\n",
       "2     26459  0.00  0.24  0.76\n",
       "3     26460  0.16  0.10  0.74\n",
       "4     26461  0.13  0.45  0.42\n",
       "...     ...   ...   ...   ...\n",
       "9995  36452  0.17  0.27  0.56\n",
       "9996  36453  0.12  0.33  0.55\n",
       "9997  36454  0.12  0.12  0.76\n",
       "9998  36455  0.09  0.35  0.56\n",
       "9999  36456  0.08  0.40  0.52\n",
       "\n",
       "[10000 rows x 4 columns]"
      ]
     },
     "execution_count": 76,
     "metadata": {},
     "output_type": "execute_result"
    }
   ],
   "source": [
    "sample_submission"
   ]
  },
  {
   "cell_type": "code",
   "execution_count": 77,
   "metadata": {
    "executionInfo": {
     "elapsed": 8723,
     "status": "ok",
     "timestamp": 1617445520438,
     "user": {
      "displayName": "youtube dacon",
      "photoUrl": "",
      "userId": "00770885000471893693"
     },
     "user_tz": -540
    },
    "id": "VGR5qFLuoQmi"
   },
   "outputs": [],
   "source": [
    "sample_submission.to_csv(\"sample_submission_ver1.csv\", index = False)"
   ]
  },
  {
   "cell_type": "code",
   "execution_count": null,
   "metadata": {
    "executionInfo": {
     "elapsed": 8718,
     "status": "ok",
     "timestamp": 1617445520439,
     "user": {
      "displayName": "youtube dacon",
      "photoUrl": "",
      "userId": "00770885000471893693"
     },
     "user_tz": -540
    },
    "id": "znd-S6G7hbnP"
   },
   "outputs": [],
   "source": []
  },
  {
   "cell_type": "code",
   "execution_count": 78,
   "metadata": {
    "executionInfo": {
     "elapsed": 8713,
     "status": "ok",
     "timestamp": 1617445520440,
     "user": {
      "displayName": "youtube dacon",
      "photoUrl": "",
      "userId": "00770885000471893693"
     },
     "user_tz": -540
    },
    "id": "xY7-qNrpi4CM"
   },
   "outputs": [],
   "source": [
    "from sklearn.model_selection import train_test_split"
   ]
  },
  {
   "cell_type": "code",
   "execution_count": 79,
   "metadata": {
    "executionInfo": {
     "elapsed": 8706,
     "status": "ok",
     "timestamp": 1617445520442,
     "user": {
      "displayName": "youtube dacon",
      "photoUrl": "",
      "userId": "00770885000471893693"
     },
     "user_tz": -540
    },
    "id": "ggsgakMmjLKm"
   },
   "outputs": [],
   "source": [
    "X_train, X_val, y_train, y_val = train_test_split(train_x, train_y,\n",
    "                 stratify = train_y, \n",
    "                 test_size = 0.25,\n",
    "                 random_state = 10086\n",
    "                 )"
   ]
  },
  {
   "cell_type": "code",
   "execution_count": 80,
   "metadata": {
    "colab": {
     "base_uri": "https://localhost:8080/"
    },
    "executionInfo": {
     "elapsed": 8696,
     "status": "ok",
     "timestamp": 1617445520443,
     "user": {
      "displayName": "youtube dacon",
      "photoUrl": "",
      "userId": "00770885000471893693"
     },
     "user_tz": -540
    },
    "id": "TE5e2wTdjetw",
    "outputId": "c19cfcea-aee5-4d48-b032-f8c7a782da65"
   },
   "outputs": [
    {
     "name": "stdout",
     "output_type": "stream",
     "text": [
      "(19842, 18) (6615, 18) (19842,) (6615,)\n"
     ]
    }
   ],
   "source": [
    "print(X_train.shape, X_val.shape, y_train.shape, y_val.shape)"
   ]
  },
  {
   "cell_type": "code",
   "execution_count": 81,
   "metadata": {
    "executionInfo": {
     "elapsed": 8686,
     "status": "ok",
     "timestamp": 1617445520444,
     "user": {
      "displayName": "youtube dacon",
      "photoUrl": "",
      "userId": "00770885000471893693"
     },
     "user_tz": -540
    },
    "id": "G3Ox_CHMjuMl"
   },
   "outputs": [],
   "source": [
    "clf = RandomForestClassifier()"
   ]
  },
  {
   "cell_type": "code",
   "execution_count": 82,
   "metadata": {
    "colab": {
     "base_uri": "https://localhost:8080/"
    },
    "executionInfo": {
     "elapsed": 11293,
     "status": "ok",
     "timestamp": 1617445523062,
     "user": {
      "displayName": "youtube dacon",
      "photoUrl": "",
      "userId": "00770885000471893693"
     },
     "user_tz": -540
    },
    "id": "TYKN0OOfjz0L",
    "outputId": "24eebad6-ff0d-4190-8496-12fe13e940b0"
   },
   "outputs": [
    {
     "data": {
      "text/plain": [
       "RandomForestClassifier()"
      ]
     },
     "execution_count": 82,
     "metadata": {},
     "output_type": "execute_result"
    }
   ],
   "source": [
    "clf.fit(X_train, y_train)"
   ]
  },
  {
   "cell_type": "code",
   "execution_count": 83,
   "metadata": {
    "executionInfo": {
     "elapsed": 11283,
     "status": "ok",
     "timestamp": 1617445523063,
     "user": {
      "displayName": "youtube dacon",
      "photoUrl": "",
      "userId": "00770885000471893693"
     },
     "user_tz": -540
    },
    "id": "1aaG89dwj3Km"
   },
   "outputs": [],
   "source": [
    "y_proba = clf.predict_proba(X_val)"
   ]
  },
  {
   "cell_type": "code",
   "execution_count": 84,
   "metadata": {
    "executionInfo": {
     "elapsed": 11278,
     "status": "ok",
     "timestamp": 1617445523064,
     "user": {
      "displayName": "youtube dacon",
      "photoUrl": "",
      "userId": "00770885000471893693"
     },
     "user_tz": -540
    },
    "id": "X-VYnE84j7p5"
   },
   "outputs": [],
   "source": [
    "y_val_onehot = pd.get_dummies(y_val)"
   ]
  },
  {
   "cell_type": "code",
   "execution_count": 85,
   "metadata": {
    "colab": {
     "base_uri": "https://localhost:8080/"
    },
    "executionInfo": {
     "elapsed": 11269,
     "status": "ok",
     "timestamp": 1617445523065,
     "user": {
      "displayName": "youtube dacon",
      "photoUrl": "",
      "userId": "00770885000471893693"
     },
     "user_tz": -540
    },
    "id": "HpTMOJBej9kS",
    "outputId": "82802adf-688c-4079-bea1-6fdfe5828b6f"
   },
   "outputs": [
    {
     "data": {
      "text/plain": [
       "array([[0.23, 0.29, 0.48],\n",
       "       [0.02, 0.19, 0.79],\n",
       "       [0.2 , 0.01, 0.79],\n",
       "       ...,\n",
       "       [0.07, 0.12, 0.81],\n",
       "       [0.02, 0.24, 0.74],\n",
       "       [0.19, 0.18, 0.63]])"
      ]
     },
     "execution_count": 85,
     "metadata": {},
     "output_type": "execute_result"
    }
   ],
   "source": [
    "y_proba"
   ]
  },
  {
   "cell_type": "code",
   "execution_count": 86,
   "metadata": {
    "colab": {
     "base_uri": "https://localhost:8080/",
     "height": 415
    },
    "executionInfo": {
     "elapsed": 11255,
     "status": "ok",
     "timestamp": 1617445523066,
     "user": {
      "displayName": "youtube dacon",
      "photoUrl": "",
      "userId": "00770885000471893693"
     },
     "user_tz": -540
    },
    "id": "6zjjDZCXkZ_C",
    "outputId": "ab58754d-5827-40eb-e56f-090f0050bb2d"
   },
   "outputs": [
    {
     "data": {
      "text/html": [
       "<div>\n",
       "<style scoped>\n",
       "    .dataframe tbody tr th:only-of-type {\n",
       "        vertical-align: middle;\n",
       "    }\n",
       "\n",
       "    .dataframe tbody tr th {\n",
       "        vertical-align: top;\n",
       "    }\n",
       "\n",
       "    .dataframe thead th {\n",
       "        text-align: right;\n",
       "    }\n",
       "</style>\n",
       "<table border=\"1\" class=\"dataframe\">\n",
       "  <thead>\n",
       "    <tr style=\"text-align: right;\">\n",
       "      <th></th>\n",
       "      <th>0.0</th>\n",
       "      <th>1.0</th>\n",
       "      <th>2.0</th>\n",
       "    </tr>\n",
       "  </thead>\n",
       "  <tbody>\n",
       "    <tr>\n",
       "      <th>36</th>\n",
       "      <td>0</td>\n",
       "      <td>0</td>\n",
       "      <td>1</td>\n",
       "    </tr>\n",
       "    <tr>\n",
       "      <th>3464</th>\n",
       "      <td>0</td>\n",
       "      <td>0</td>\n",
       "      <td>1</td>\n",
       "    </tr>\n",
       "    <tr>\n",
       "      <th>2640</th>\n",
       "      <td>0</td>\n",
       "      <td>0</td>\n",
       "      <td>1</td>\n",
       "    </tr>\n",
       "    <tr>\n",
       "      <th>22500</th>\n",
       "      <td>0</td>\n",
       "      <td>1</td>\n",
       "      <td>0</td>\n",
       "    </tr>\n",
       "    <tr>\n",
       "      <th>17275</th>\n",
       "      <td>0</td>\n",
       "      <td>1</td>\n",
       "      <td>0</td>\n",
       "    </tr>\n",
       "    <tr>\n",
       "      <th>...</th>\n",
       "      <td>...</td>\n",
       "      <td>...</td>\n",
       "      <td>...</td>\n",
       "    </tr>\n",
       "    <tr>\n",
       "      <th>6806</th>\n",
       "      <td>0</td>\n",
       "      <td>1</td>\n",
       "      <td>0</td>\n",
       "    </tr>\n",
       "    <tr>\n",
       "      <th>23096</th>\n",
       "      <td>0</td>\n",
       "      <td>0</td>\n",
       "      <td>1</td>\n",
       "    </tr>\n",
       "    <tr>\n",
       "      <th>7756</th>\n",
       "      <td>0</td>\n",
       "      <td>0</td>\n",
       "      <td>1</td>\n",
       "    </tr>\n",
       "    <tr>\n",
       "      <th>23331</th>\n",
       "      <td>0</td>\n",
       "      <td>0</td>\n",
       "      <td>1</td>\n",
       "    </tr>\n",
       "    <tr>\n",
       "      <th>25457</th>\n",
       "      <td>0</td>\n",
       "      <td>0</td>\n",
       "      <td>1</td>\n",
       "    </tr>\n",
       "  </tbody>\n",
       "</table>\n",
       "<p>6615 rows × 3 columns</p>\n",
       "</div>"
      ],
      "text/plain": [
       "       0.0  1.0  2.0\n",
       "36       0    0    1\n",
       "3464     0    0    1\n",
       "2640     0    0    1\n",
       "22500    0    1    0\n",
       "17275    0    1    0\n",
       "...    ...  ...  ...\n",
       "6806     0    1    0\n",
       "23096    0    0    1\n",
       "7756     0    0    1\n",
       "23331    0    0    1\n",
       "25457    0    0    1\n",
       "\n",
       "[6615 rows x 3 columns]"
      ]
     },
     "execution_count": 86,
     "metadata": {},
     "output_type": "execute_result"
    }
   ],
   "source": [
    "y_val_onehot"
   ]
  },
  {
   "cell_type": "code",
   "execution_count": 87,
   "metadata": {
    "executionInfo": {
     "elapsed": 11244,
     "status": "ok",
     "timestamp": 1617445523067,
     "user": {
      "displayName": "youtube dacon",
      "photoUrl": "",
      "userId": "00770885000471893693"
     },
     "user_tz": -540
    },
    "id": "HABu1i0lka7r"
   },
   "outputs": [],
   "source": [
    "from sklearn.metrics import log_loss"
   ]
  },
  {
   "cell_type": "code",
   "execution_count": 88,
   "metadata": {
    "colab": {
     "base_uri": "https://localhost:8080/"
    },
    "executionInfo": {
     "elapsed": 11235,
     "status": "ok",
     "timestamp": 1617445523068,
     "user": {
      "displayName": "youtube dacon",
      "photoUrl": "",
      "userId": "00770885000471893693"
     },
     "user_tz": -540
    },
    "id": "lqT76p3-kip4",
    "outputId": "4fa6d75b-79cb-4ac1-8ab3-f79c11457eb4"
   },
   "outputs": [
    {
     "data": {
      "text/plain": [
       "1.076128511732172"
      ]
     },
     "execution_count": 88,
     "metadata": {},
     "output_type": "execute_result"
    }
   ],
   "source": [
    "log_loss(y_val_onehot, y_proba)"
   ]
  },
  {
   "cell_type": "code",
   "execution_count": 89,
   "metadata": {
    "executionInfo": {
     "elapsed": 1156,
     "status": "ok",
     "timestamp": 1617445680594,
     "user": {
      "displayName": "youtube dacon",
      "photoUrl": "",
      "userId": "00770885000471893693"
     },
     "user_tz": -540
    },
    "id": "QjV35o1_LtFD"
   },
   "outputs": [],
   "source": [
    "from sklearn.model_selection import StratifiedKFold"
   ]
  },
  {
   "cell_type": "code",
   "execution_count": 90,
   "metadata": {
    "executionInfo": {
     "elapsed": 595,
     "status": "ok",
     "timestamp": 1617445738461,
     "user": {
      "displayName": "youtube dacon",
      "photoUrl": "",
      "userId": "00770885000471893693"
     },
     "user_tz": -540
    },
    "id": "HqVxgXgjLtCG"
   },
   "outputs": [],
   "source": [
    "folds = StratifiedKFold(n_splits=5, shuffle=True, random_state=55)\n"
   ]
  },
  {
   "cell_type": "code",
   "execution_count": 91,
   "metadata": {
    "executionInfo": {
     "elapsed": 15069,
     "status": "ok",
     "timestamp": 1617447400041,
     "user": {
      "displayName": "youtube dacon",
      "photoUrl": "",
      "userId": "00770885000471893693"
     },
     "user_tz": -540
    },
    "id": "ihh8R9bnLs_h"
   },
   "outputs": [
    {
     "data": {
      "text/plain": [
       "1.0550119547441834"
      ]
     },
     "execution_count": 91,
     "metadata": {},
     "output_type": "execute_result"
    }
   ],
   "source": [
    "outcomes = []\n",
    "for n_fold, (train_index, val_index)  in enumerate(folds.split(train_x, train_y)):\n",
    "    X_train, X_val = train_x.iloc[train_index], train_x.iloc[val_index]\n",
    "    y_train, y_val = train_y.iloc[train_index], train_y.iloc[val_index]\n",
    "    clf = RandomForestClassifier()\n",
    "    clf.fit(X_train, y_train)\n",
    "    predictions = clf.predict_proba(X_val)\n",
    "    y_val_onehot = pd.get_dummies(y_val)\n",
    "\n",
    "    logloss = log_loss(y_val_onehot, predictions)\n",
    "    outcomes.append(logloss)\n",
    "    \n",
    "np.mean(outcomes)"
   ]
  },
  {
   "cell_type": "code",
   "execution_count": 92,
   "metadata": {
    "colab": {
     "base_uri": "https://localhost:8080/"
    },
    "executionInfo": {
     "elapsed": 741,
     "status": "ok",
     "timestamp": 1617447452205,
     "user": {
      "displayName": "youtube dacon",
      "photoUrl": "",
      "userId": "00770885000471893693"
     },
     "user_tz": -540
    },
    "id": "o2PhvDjtSwkj",
    "outputId": "ee58c51c-9ed4-48d1-c90b-eb63d740eef0"
   },
   "outputs": [
    {
     "data": {
      "text/plain": [
       "1.0550119547441834"
      ]
     },
     "execution_count": 92,
     "metadata": {},
     "output_type": "execute_result"
    }
   ],
   "source": [
    "np.mean(outcomes)"
   ]
  },
  {
   "cell_type": "code",
   "execution_count": 93,
   "metadata": {
    "colab": {
     "base_uri": "https://localhost:8080/"
    },
    "executionInfo": {
     "elapsed": 15247,
     "status": "ok",
     "timestamp": 1617447920570,
     "user": {
      "displayName": "youtube dacon",
      "photoUrl": "",
      "userId": "00770885000471893693"
     },
     "user_tz": -540
    },
    "id": "XSNho9KfSjxK",
    "outputId": "2d95a7d7-6cde-4348-c61f-c34b6f9ac30d"
   },
   "outputs": [
    {
     "data": {
      "text/plain": [
       "1.0323837198209382"
      ]
     },
     "execution_count": 93,
     "metadata": {},
     "output_type": "execute_result"
    }
   ],
   "source": [
    "outcomes = []\n",
    "sub = np.zeros((test_x.shape[0],3))\n",
    "for n_fold, (train_index, val_index)  in enumerate(folds.split(train_x, train_y)):\n",
    "    X_train, X_val = train_x.iloc[train_index], train_x.iloc[val_index]\n",
    "    y_train, y_val = train_y.iloc[train_index], train_y.iloc[val_index]\n",
    "    clf = RandomForestClassifier()\n",
    "    clf.fit(X_train, y_train)\n",
    "    predictions = clf.predict_proba(X_val)\n",
    "    y_val_onehot = pd.get_dummies(y_val)\n",
    "\n",
    "    sub += clf.predict_proba(test_x)\n",
    "\n",
    "    logloss = log_loss(y_val_onehot, predictions)\n",
    "    outcomes.append(logloss)\n",
    "\n",
    "sub = sub / 5\n",
    "   \n",
    "np.mean(outcomes)"
   ]
  },
  {
   "cell_type": "code",
   "execution_count": 94,
   "metadata": {
    "colab": {
     "base_uri": "https://localhost:8080/"
    },
    "executionInfo": {
     "elapsed": 812,
     "status": "ok",
     "timestamp": 1617447925913,
     "user": {
      "displayName": "youtube dacon",
      "photoUrl": "",
      "userId": "00770885000471893693"
     },
     "user_tz": -540
    },
    "id": "N5WtF2ubSjuC",
    "outputId": "4c52c208-3420-4d52-84d2-67c1083ca025"
   },
   "outputs": [
    {
     "data": {
      "text/plain": [
       "array([[0.118, 0.222, 0.66 ],\n",
       "       [0.082, 0.262, 0.656],\n",
       "       [0.08 , 0.258, 0.662],\n",
       "       ...,\n",
       "       [0.114, 0.086, 0.8  ],\n",
       "       [0.07 , 0.42 , 0.51 ],\n",
       "       [0.114, 0.36 , 0.526]])"
      ]
     },
     "execution_count": 94,
     "metadata": {},
     "output_type": "execute_result"
    }
   ],
   "source": [
    "sub"
   ]
  },
  {
   "cell_type": "code",
   "execution_count": 95,
   "metadata": {
    "executionInfo": {
     "elapsed": 634,
     "status": "ok",
     "timestamp": 1617447957036,
     "user": {
      "displayName": "youtube dacon",
      "photoUrl": "",
      "userId": "00770885000471893693"
     },
     "user_tz": -540
    },
    "id": "Nc5_mjGJSjrA"
   },
   "outputs": [],
   "source": [
    "sample_submission.iloc[:,1:] =  sub"
   ]
  },
  {
   "cell_type": "code",
   "execution_count": 96,
   "metadata": {
    "executionInfo": {
     "elapsed": 708,
     "status": "ok",
     "timestamp": 1617447993881,
     "user": {
      "displayName": "youtube dacon",
      "photoUrl": "",
      "userId": "00770885000471893693"
     },
     "user_tz": -540
    },
    "id": "nlF0HUn7Sjl-"
   },
   "outputs": [],
   "source": [
    "sample_submission.to_csv(\"5fold_prediction.csv\", index = False)"
   ]
  }
 ],
 "metadata": {
  "colab": {
   "authorship_tag": "ABX9TyOYtTkYj21ll5RVdvP7w2Dg",
   "collapsed_sections": [],
   "mount_file_id": "1GxujCu2C6ryL1WOMuQKh_J5qQxiKb6Cf",
   "name": "Baseline.ipynb",
   "provenance": []
  },
  "interpreter": {
   "hash": "40d3a090f54c6569ab1632332b64b2c03c39dcf918b08424e98f38b5ae0af88f"
  },
  "kernelspec": {
   "display_name": "Python 3.6.12 64-bit ('gpu': conda)",
   "language": "python",
   "name": "python3"
  },
  "language_info": {
   "codemirror_mode": {
    "name": "ipython",
    "version": 3
   },
   "file_extension": ".py",
   "mimetype": "text/x-python",
   "name": "python",
   "nbconvert_exporter": "python",
   "pygments_lexer": "ipython3",
   "version": "3.8.5"
  }
 },
 "nbformat": 4,
 "nbformat_minor": 4
}
